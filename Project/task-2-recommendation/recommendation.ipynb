{
 "cells": [
  {
   "cell_type": "markdown",
   "id": "492667f0",
   "metadata": {},
   "source": [
    "# Task 2: Recommendation Engine - Skeleton Notebook\n",
    "\n",
    "This notebook provides a very basic example for the notebook you are expected to submit for Task 2 of the Final Project. The main purpose is that we can try different examples to get a better sense of your approach. Compared to Task 1 (Kaggle Competition), we don't have any objective means to evaluate the recommendations. \n",
    "\n",
    "Some general comments:\n",
    "* You can import any data you need. This particularly includes your cleaned version of the properties dataset (incl. the auxiliary data or any other data you might have collected); there's no need to show the data cleaning / preprocessing steps in this notebook.\n",
    "* You can also import your code in form of external Python (.py) script. You're actually encouraged to do so to keep this notebook light and uncluttered.\n",
    "* **Important:** Please consider this notebook as an example and not to set specific requirements. Your notebook is likely to look very different. As long there is a section where we can easily test your solution, it should be fine."
   ]
  },
  {
   "cell_type": "markdown",
   "id": "b4e3949b",
   "metadata": {},
   "source": [
    "## Setting up the Notebook"
   ]
  },
  {
   "cell_type": "code",
   "execution_count": 1,
   "id": "0d2dc1ce",
   "metadata": {},
   "outputs": [],
   "source": [
    "import pandas as pd\n",
    "import matplotlib.pyplot as plt\n",
    "import numpy as np\n",
    "import seaborn as sns\n",
    "import os\n",
    "os.environ[\"KMP_DUPLICATE_LIB_OK\"] = \"TRUE\"\n",
    "from sklearn import preprocessing"
   ]
  },
  {
   "cell_type": "markdown",
   "id": "abb1a8b2",
   "metadata": {},
   "source": [
    "## Load the Data\n",
    "\n",
    "For this example, we use a simplified version of the dataset with only 2k+ data samples, each with only a subset of features."
   ]
  },
  {
   "cell_type": "code",
   "execution_count": 2,
   "id": "dda80443",
   "metadata": {},
   "outputs": [
    {
     "data": {
      "text/plain": "   listing_id                                           title  \\\n0      799762    hdb flat for sale in 524 ang mo kio avenue 5   \n1      896907         4 bed condo for sale in kopar at newton   \n2      445021               4 bed condo for sale in nouvel 18   \n3      252293  hdb flat for sale in 467 jurong west street 41   \n4      926453         hdb flat for sale in 664b punggol drive   \n\n      property_name property_type  built_year  num_beds  num_baths  size_sqft  \\\n0    hdb-ang mo kio   hdb 3 rooms      1980.0       2.0        2.0        732   \n1   kopar at newton         condo      2023.0       4.0        4.0       1528   \n2         nouvel 18         condo      2014.0       4.0        3.0       2476   \n3    hong kah ville           hdb      1985.0       3.0        2.0       1302   \n4  waterway sunbeam   Hdb 5 Rooms      2016.0       3.0        2.0       1184   \n\n  planning_area      price  \n0    ang mo kio   419000.0  \n1        novena  3727500.0  \n2        newton  8013600.0  \n3   jurong west   682500.0  \n4       punggol   764400.0  ",
      "text/html": "<div>\n<style scoped>\n    .dataframe tbody tr th:only-of-type {\n        vertical-align: middle;\n    }\n\n    .dataframe tbody tr th {\n        vertical-align: top;\n    }\n\n    .dataframe thead th {\n        text-align: right;\n    }\n</style>\n<table border=\"1\" class=\"dataframe\">\n  <thead>\n    <tr style=\"text-align: right;\">\n      <th></th>\n      <th>listing_id</th>\n      <th>title</th>\n      <th>property_name</th>\n      <th>property_type</th>\n      <th>built_year</th>\n      <th>num_beds</th>\n      <th>num_baths</th>\n      <th>size_sqft</th>\n      <th>planning_area</th>\n      <th>price</th>\n    </tr>\n  </thead>\n  <tbody>\n    <tr>\n      <th>0</th>\n      <td>799762</td>\n      <td>hdb flat for sale in 524 ang mo kio avenue 5</td>\n      <td>hdb-ang mo kio</td>\n      <td>hdb 3 rooms</td>\n      <td>1980.0</td>\n      <td>2.0</td>\n      <td>2.0</td>\n      <td>732</td>\n      <td>ang mo kio</td>\n      <td>419000.0</td>\n    </tr>\n    <tr>\n      <th>1</th>\n      <td>896907</td>\n      <td>4 bed condo for sale in kopar at newton</td>\n      <td>kopar at newton</td>\n      <td>condo</td>\n      <td>2023.0</td>\n      <td>4.0</td>\n      <td>4.0</td>\n      <td>1528</td>\n      <td>novena</td>\n      <td>3727500.0</td>\n    </tr>\n    <tr>\n      <th>2</th>\n      <td>445021</td>\n      <td>4 bed condo for sale in nouvel 18</td>\n      <td>nouvel 18</td>\n      <td>condo</td>\n      <td>2014.0</td>\n      <td>4.0</td>\n      <td>3.0</td>\n      <td>2476</td>\n      <td>newton</td>\n      <td>8013600.0</td>\n    </tr>\n    <tr>\n      <th>3</th>\n      <td>252293</td>\n      <td>hdb flat for sale in 467 jurong west street 41</td>\n      <td>hong kah ville</td>\n      <td>hdb</td>\n      <td>1985.0</td>\n      <td>3.0</td>\n      <td>2.0</td>\n      <td>1302</td>\n      <td>jurong west</td>\n      <td>682500.0</td>\n    </tr>\n    <tr>\n      <th>4</th>\n      <td>926453</td>\n      <td>hdb flat for sale in 664b punggol drive</td>\n      <td>waterway sunbeam</td>\n      <td>Hdb 5 Rooms</td>\n      <td>2016.0</td>\n      <td>3.0</td>\n      <td>2.0</td>\n      <td>1184</td>\n      <td>punggol</td>\n      <td>764400.0</td>\n    </tr>\n  </tbody>\n</table>\n</div>"
     },
     "execution_count": 2,
     "metadata": {},
     "output_type": "execute_result"
    }
   ],
   "source": [
    "df_sample = pd.read_csv('./data/sg-property-prices-simplified.csv')\n",
    "df_sample.head()"
   ]
  },
  {
   "cell_type": "code",
   "execution_count": 3,
   "id": "4c523248-482e-44ba-ab5f-c896f4a0643f",
   "metadata": {},
   "outputs": [
    {
     "name": "stdout",
     "output_type": "stream",
     "text": [
      "Before cleaning, there are 2025 records\n"
     ]
    },
    {
     "data": {
      "text/plain": "listing_id        0\ntitle             0\nproperty_name     0\nproperty_type     0\nbuilt_year       71\nnum_beds          2\nnum_baths        44\nsize_sqft         0\nplanning_area    10\nprice             0\ndtype: int64"
     },
     "execution_count": 3,
     "metadata": {},
     "output_type": "execute_result"
    }
   ],
   "source": [
    "print('Before cleaning, there are {} records'.format(df_sample.shape[0]))\n",
    "df_sample.isnull().sum()"
   ]
  },
  {
   "cell_type": "code",
   "execution_count": 4,
   "id": "a9daf3cb-060f-4ae1-b956-4bd75ca3daf1",
   "metadata": {
    "tags": []
   },
   "outputs": [],
   "source": [
    "from preprocess import *\n",
    "data = df_sample.copy()\n",
    "data[\"property_type\"] = data[\"property_type\"].apply(preprocess_property_type)"
   ]
  },
  {
   "cell_type": "code",
   "execution_count": 5,
   "id": "e9334553-1ac3-4061-a3f0-202dbc4049a6",
   "metadata": {
    "tags": []
   },
   "outputs": [],
   "source": [
    "data = data.drop(['listing_id', 'property_name', 'title',\n",
    "                  ], axis=1)"
   ]
  },
  {
   "cell_type": "code",
   "execution_count": 6,
   "id": "d1d8c072-bc00-4145-9474-59323de2784c",
   "metadata": {
    "tags": []
   },
   "outputs": [],
   "source": [
    "# fill na by mean\n",
    "data[['built_year', 'num_beds', 'num_baths']] = data[['built_year', 'num_beds', 'num_baths']].fillna(\n",
    "    data[['built_year', 'num_beds', 'num_baths']].mean())\n",
    "\n"
   ]
  },
  {
   "cell_type": "code",
   "execution_count": 7,
   "id": "f8cc6c08-32ad-4a57-8346-3935614f8df6",
   "metadata": {},
   "outputs": [],
   "source": [
    "# filter out outliers\n",
    "data = data[(data['size_sqft'] <= data['size_sqft'].quantile(0.99)) & (data['size_sqft'] > 10)]\n",
    "data.drop(data[data.price <= 0].index, inplace=True)"
   ]
  },
  {
   "cell_type": "code",
   "execution_count": 8,
   "id": "3da94e39-68bb-4f71-9a94-ff0be3e4287d",
   "metadata": {},
   "outputs": [],
   "source": [
    "data.drop(data[data.isnull().T.any()].index, inplace=True)"
   ]
  },
  {
   "cell_type": "code",
   "execution_count": 9,
   "id": "92976a62-bd97-4a81-aade-ed5bc5b9e04a",
   "metadata": {},
   "outputs": [
    {
     "name": "stdout",
     "output_type": "stream",
     "text": [
      "After cleaning, there are now 1980 records.\n"
     ]
    },
    {
     "data": {
      "text/plain": "property_type    0\nbuilt_year       0\nnum_beds         0\nnum_baths        0\nsize_sqft        0\nplanning_area    0\nprice            0\ndtype: int64"
     },
     "execution_count": 9,
     "metadata": {},
     "output_type": "execute_result"
    }
   ],
   "source": [
    "print('After cleaning, there are now {} records.'.format(data.shape[0]))\n",
    "data.isnull().sum()"
   ]
  },
  {
   "cell_type": "code",
   "execution_count": 10,
   "id": "224566c2-eda7-4f44-b5a3-3eeae2497dc4",
   "metadata": {},
   "outputs": [
    {
     "data": {
      "text/plain": "<seaborn.axisgrid.FacetGrid at 0x12a74f6d0>"
     },
     "execution_count": 10,
     "metadata": {},
     "output_type": "execute_result"
    },
    {
     "data": {
      "text/plain": "<Figure size 500x500 with 1 Axes>",
      "image/png": "[encoded data removed]"
     },
     "metadata": {},
     "output_type": "display_data"
    },
    {
     "data": {
      "text/plain": "<Figure size 500x500 with 1 Axes>",
      "image/png": "[encoded data removed]"
     },
     "metadata": {},
     "output_type": "display_data"
    },
    {
     "data": {
      "text/plain": "<Figure size 500x500 with 1 Axes>",
      "image/png": "[encoded data removed]"
     },
     "metadata": {},
     "output_type": "display_data"
    },
    {
     "data": {
      "text/plain": "<Figure size 500x500 with 1 Axes>",
      "image/png": "[encoded data removed]"
     },
     "metadata": {},
     "output_type": "display_data"
    }
   ],
   "source": [
    "data['built_year'] = data['built_year'].astype(int)\n",
    "data['num_baths'] = data['num_baths'].astype(int)\n",
    "data['num_beds'] = data['num_beds'].astype(int)\n",
    "sns.displot(data, x=\"built_year\")\n",
    "sns.displot(data, x=\"num_beds\")\n",
    "sns.displot(data, x=\"num_baths\")\n",
    "sns.displot(data, x=\"size_sqft\")"
   ]
  },
  {
   "cell_type": "code",
   "execution_count": 11,
   "id": "35a157dd-9db4-4757-af7e-80acca0707f5",
   "metadata": {},
   "outputs": [
    {
     "data": {
      "text/plain": "[Text(0, 0.5, 'built_year'),\n Text(0, 1.5, 'num_beds'),\n Text(0, 2.5, 'num_baths'),\n Text(0, 3.5, 'size_sqft'),\n Text(0, 4.5, 'price')]"
     },
     "execution_count": 11,
     "metadata": {},
     "output_type": "execute_result"
    }
   ],
   "source": [
    "plt.figure(figsize=(15,8))\n",
    "sns.set(font_scale=0.8)\n",
    "heatmap = sns.heatmap(data.corr(), annot=True, cmap='rocket', linewidths=1)  #data.corr()-->correlation matrix\n",
    "heatmap.set_xticklabels(heatmap.get_xticklabels(), rotation=40, fontsize=4)\n",
    "heatmap.set_yticklabels(heatmap.get_yticklabels(), rotation=0, fontsize=8)"
   ]
  },
  {
   "cell_type": "code",
   "execution_count": 12,
   "id": "b9e0b5ff-45f3-4b62-8bc6-9223aca3c7a8",
   "metadata": {},
   "outputs": [],
   "source": [
    "labelEnc1 = preprocessing.LabelEncoder()\n",
    "labelEnc2 = preprocessing.LabelEncoder()\n",
    "labelEnc1.fit(data.planning_area)\n",
    "labelEnc2.fit(data.property_type)\n",
    "data.planning_area = labelEnc1.transform(data.planning_area)\n",
    "data.property_type = labelEnc2.transform(data.property_type)"
   ]
  },
  {
   "cell_type": "code",
   "execution_count": 13,
   "id": "61d87d31-e5cf-46ca-9edd-2f56baa292fe",
   "metadata": {},
   "outputs": [
    {
     "data": {
      "text/plain": "property_type          1.0\nbuilt_year          1977.0\nnum_beds               5.0\nnum_baths              6.0\nsize_sqft           7534.0\nplanning_area         23.0\nprice            9030000.0\nName: 10, dtype: float64"
     },
     "execution_count": 13,
     "metadata": {},
     "output_type": "execute_result"
    }
   ],
   "source": [
    "data.iloc[10]"
   ]
  },
  {
   "cell_type": "code",
   "execution_count": 14,
   "id": "7374e8c0-a281-4c6c-85fa-c6363bd3116b",
   "metadata": {},
   "outputs": [],
   "source": [
    "# Convert dataframes to numpy arrays\n",
    "X = data.to_numpy()\n",
    "scaler = preprocessing.StandardScaler().fit(X)\n",
    "X = scaler.transform(X)"
   ]
  },
  {
   "cell_type": "code",
   "execution_count": 15,
   "id": "a63ab02f-a38a-4433-8b2b-e5fa5ead4cc5",
   "metadata": {},
   "outputs": [
    {
     "data": {
      "text/plain": "array([[ 0.66957851, -2.01590863, -0.86078972, ..., -0.56424563,\n        -1.60040526, -0.63919639],\n       [-0.48026143,  0.75350583,  0.77802148, ..., -0.01807638,\n         0.10545306,  0.28730553],\n       [-0.48026143,  0.17386094,  0.77802148, ...,  0.63238649,\n         0.02016014,  1.48757149],\n       ...,\n       [ 0.66957851, -1.95150365, -0.04138412, ..., -0.19510109,\n        -0.57689027, -0.52130088],\n       [-0.48026143,  0.68910084,  0.77802148, ...,  0.86841942,\n        -0.15042569,  1.38995064],\n       [-0.48026143,  0.94672079,  1.59742708, ..., -0.05444192,\n        -1.60040526,  0.12558425]])"
     },
     "execution_count": 15,
     "metadata": {},
     "output_type": "execute_result"
    }
   ],
   "source": [
    "X"
   ]
  },
  {
   "cell_type": "code",
   "execution_count": 16,
   "id": "82e161e4-a9b1-46d6-86b0-4d40076abd99",
   "metadata": {},
   "outputs": [],
   "source": [
    "class NMF:\n",
    "    \n",
    "    def __init__(self, M, k=100):\n",
    "        self.M, self.k = M, k\n",
    "    \n",
    "        num_users, num_items = M.shape\n",
    "        \n",
    "        self.Z = np.argwhere(M != 0)\n",
    "        self.W = np.random.rand(num_users, k)\n",
    "        self.H = np.random.rand(k, num_items)\n",
    "    \n",
    "    def calc_loss(self):\n",
    "        return np.sum(np.square((self.M - np.dot(self.W, self.H)))[self.M != 0])\n",
    "    \n",
    "    \n",
    "    \n",
    "    def fit(self, learning_rate=0.0001, lambda_reg=0.1, num_iter=100, verbose=False):\n",
    "        for it in range(num_iter):\n",
    "\n",
    "            #########################################################################################\n",
    "            ### Your code starts here ###############################################################\n",
    "            \n",
    "            # self.W = self.W + learning_rate * 2 * (np.dot(self.M - np.dot(self.W, self.H), self.H.T) - lambda_reg * self.W)\n",
    "            # self.H = self.H + learning_rate * 2 * (np.dot(self.W.T, self.M - np.dot(self.W, self.H)) - lambda_reg * self.H)\n",
    "            \n",
    "            for u, v in self.Z:\n",
    "                self.W[u, :] = self.W[u, :] + learning_rate * 2 * ((self.M[u][v] - np.dot(self.W[u, :], self.H[:, v])) * (self.H[:, v].T) - lambda_reg * self.W[u, :])\n",
    "                self.H[:, v] = self.H[:, v] + learning_rate * 2 * (self.W[u, :] * (self.M[u][v] -np.dot(self.W[u, :], self.H[:, v])) - lambda_reg * self.H[:, v])\n",
    "\n",
    "\n",
    "\n",
    "            ### Your code ends here #################################################################\n",
    "            #########################################################################################           \n",
    "\n",
    "            # Print loss every 10% of the iterations\n",
    "            if verbose == True:\n",
    "                if(it % (num_iter/10) == 0):\n",
    "                    print('Loss: {:.5f} \\t {:.0f}%'.format(self.calc_loss(), (it / (num_iter/100))))\n",
    "\n",
    "        # Print final loss        \n",
    "        if verbose == True:\n",
    "            print('Loss: {:.5f} \\t 100%'.format(self.calc_loss()))        \n",
    "        \n",
    "        \n",
    "    def predict(self):\n",
    "        return np.dot(self.W, self.H)"
   ]
  },
  {
   "cell_type": "code",
   "execution_count": 17,
   "id": "94035532-6e0e-4452-9cd2-43698ae14ec8",
   "metadata": {},
   "outputs": [
    {
     "name": "stdout",
     "output_type": "stream",
     "text": [
      "Loss: 16091.43476 \t 0%\n",
      "Loss: 3777.91585 \t 10%\n",
      "Loss: 2055.28329 \t 20%\n",
      "Loss: 1431.32836 \t 30%\n",
      "Loss: 1212.36545 \t 40%\n",
      "Loss: 1108.26165 \t 50%\n",
      "Loss: 1063.56570 \t 60%\n",
      "Loss: 1039.36727 \t 70%\n",
      "Loss: 1024.94813 \t 80%\n",
      "Loss: 1016.70364 \t 90%\n",
      "Loss: 1012.24982 \t 100%\n"
     ]
    }
   ],
   "source": [
    "np.random.seed(42)\n",
    "k, learning_rate, lambda_reg, num_iter = 100, 0.01, 0.1, 300\n",
    "nmf = NMF(X, k=k)\n",
    "nmf.fit(learning_rate=learning_rate, lambda_reg=lambda_reg, num_iter=num_iter, verbose=True)\n",
    "P = nmf.predict()"
   ]
  },
  {
   "cell_type": "code",
   "execution_count": 18,
   "id": "b2fe8b02-0fd4-4d8d-bc93-b497f47e6235",
   "metadata": {},
   "outputs": [
    {
     "data": {
      "text/plain": "array([[ 0.66957851, -2.01590863, -0.86078972, ..., -0.56424563,\n        -1.60040526, -0.63919639],\n       [-0.48026143,  0.75350583,  0.77802148, ..., -0.01807638,\n         0.10545306,  0.28730553],\n       [-0.48026143,  0.17386094,  0.77802148, ...,  0.63238649,\n         0.02016014,  1.48757149],\n       ...,\n       [ 0.66957851, -1.95150365, -0.04138412, ..., -0.19510109,\n        -0.57689027, -0.52130088],\n       [-0.48026143,  0.68910084,  0.77802148, ...,  0.86841942,\n        -0.15042569,  1.38995064],\n       [-0.48026143,  0.94672079,  1.59742708, ..., -0.05444192,\n        -1.60040526,  0.12558425]])"
     },
     "execution_count": 18,
     "metadata": {},
     "output_type": "execute_result"
    }
   ],
   "source": [
    "X"
   ]
  },
  {
   "cell_type": "markdown",
   "id": "3ec513a2",
   "metadata": {
    "tags": []
   },
   "source": [
    "## Computing the Top Recommendations\n",
    "\n",
    "The method `get_top_recommendations()` shows an example of how to get the top recommendations for a given data sample (data sample = row in the dataframe of the dataset). The input is a row from the dataset and a list of optional input parameters which will depend on your approach; `k` is the number of returned recommendations seems useful, though.\n",
    "\n",
    "The output should be a `pd.DataFrame` containing the recommendations. The output dataframe should have the same columns as the row + any additional columns you deem important (e.g., any score or tags that you might want to add to your recommendations).\n",
    "\n",
    "In principle, the method `get_top_recommendations()` may be imported from a external Python (.py) script as well."
   ]
  },
  {
   "cell_type": "code",
   "execution_count": 19,
   "id": "07a15b67-e0e7-40ef-8006-53e756abda7f",
   "metadata": {},
   "outputs": [],
   "source": [
    "from sklearn.metrics.pairwise import cosine_similarity"
   ]
  },
  {
   "cell_type": "code",
   "execution_count": 20,
   "id": "8c79153a",
   "metadata": {},
   "outputs": [],
   "source": [
    "def get_top_recommendations(row, **kwargs) -> pd.DataFrame:\n",
    "    \n",
    "    #####################################################\n",
    "    ## Initialize the required parameters\n",
    "    \n",
    "    # The number of recommendations seem recommended\n",
    "    # Additional input parameters are up to you\n",
    "    k = None\n",
    "    \n",
    "    # Extract all **kwargs input parameters\n",
    "    # and set the used paramaters (here: k)\n",
    "    for key, value in kwargs.items():\n",
    "        if key == 'k':\n",
    "            k = value\n",
    "            \n",
    "       \n",
    "    #####################################################\n",
    "    ## Compute your recommendations\n",
    "    #\n",
    "    # This is where your magic happens. Of course, you can call methods\n",
    "    # defined in this notebook or in external Python (.py) scripts\n",
    "    #\n",
    "    vec = row\n",
    "    df = pd.DataFrame([row])\n",
    "    df[\"property_type\"] = df[\"property_type\"].apply(preprocess_property_type)\n",
    "    df = df.drop(['listing_id', 'property_name', 'title',\n",
    "                  ], axis=1)\n",
    "    df['built_year'] = df['built_year'].astype(int)\n",
    "    df['num_baths'] = df['num_baths'].astype(int)\n",
    "    df['num_beds'] = df['num_beds'].astype(int)\n",
    "    df.planning_area = labelEnc1.transform(df.planning_area)\n",
    "    df.property_type = labelEnc2.transform(df.property_type)\n",
    "    index = data[data == df.iloc[0]].dropna().index.tolist()[0]\n",
    "    sim_matrix = np.zeros((X.shape[0], 1))\n",
    "    for i in range(X.shape[0]):\n",
    "        cos_sim = cosine_similarity(X[index].reshape(1, -1), X[i].reshape(1, -1))[0][0]\n",
    "        sim_matrix[i] = cos_sim\n",
    "    _k_sort = np.argpartition(sim_matrix.flatten(), -k)[-k:]\n",
    "    _k_sort = _k_sort[np.argsort(sim_matrix[_k_sort].flatten())][::-1]\n",
    "\n",
    "    # Here, we just return the input row k times\n",
    "    # Ideally, you recommendations will be much better\n",
    "    index_list = data.iloc[_k_sort].index.tolist()\n",
    "    df_result = pd.DataFrame([row] * k, index=None)\n",
    "    for i in range(k):\n",
    "        df_result.iloc[i] = df_sample.iloc[index_list[i]]\n",
    "    # Return the dataset with the k recommendations\n",
    "    df_result.reset_index(drop=True, inplace=True)\n",
    "    return df_result\n"
   ]
  },
  {
   "cell_type": "markdown",
   "id": "347d7765",
   "metadata": {},
   "source": [
    "## Testing the Recommendation Engine\n",
    "\n",
    "This will be the main part of your notebook to allow for testing your solutions. Most basically, for a given listing (defined by the row id in your input dataframe), we would like to see the recommendations you make. So however you set up your notebook, it should have at least a comparable section that will allow us to run your solution for different inputs.\n",
    "\n",
    "### Pick a Sample Listing as Input"
   ]
  },
  {
   "cell_type": "code",
   "execution_count": 21,
   "id": "8d6390d0",
   "metadata": {},
   "outputs": [
    {
     "data": {
      "text/plain": "    listing_id                                         title  \\\n10      954673  5 bed house for sale in pasir ris beach park   \n\n           property_name property_type  built_year  num_beds  num_baths  \\\n10  pasir ris beach park      bungalow      1977.0       5.0        6.0   \n\n    size_sqft planning_area      price  \n10       7534     pasir ris  9030000.0  ",
      "text/html": "<div>\n<style scoped>\n    .dataframe tbody tr th:only-of-type {\n        vertical-align: middle;\n    }\n\n    .dataframe tbody tr th {\n        vertical-align: top;\n    }\n\n    .dataframe thead th {\n        text-align: right;\n    }\n</style>\n<table border=\"1\" class=\"dataframe\">\n  <thead>\n    <tr style=\"text-align: right;\">\n      <th></th>\n      <th>listing_id</th>\n      <th>title</th>\n      <th>property_name</th>\n      <th>property_type</th>\n      <th>built_year</th>\n      <th>num_beds</th>\n      <th>num_baths</th>\n      <th>size_sqft</th>\n      <th>planning_area</th>\n      <th>price</th>\n    </tr>\n  </thead>\n  <tbody>\n    <tr>\n      <th>10</th>\n      <td>954673</td>\n      <td>5 bed house for sale in pasir ris beach park</td>\n      <td>pasir ris beach park</td>\n      <td>bungalow</td>\n      <td>1977.0</td>\n      <td>5.0</td>\n      <td>6.0</td>\n      <td>7534</td>\n      <td>pasir ris</td>\n      <td>9030000.0</td>\n    </tr>\n  </tbody>\n</table>\n</div>"
     },
     "execution_count": 21,
     "metadata": {},
     "output_type": "execute_result"
    }
   ],
   "source": [
    "# Pick a row id of choice\n",
    "row_id = 10\n",
    "#row_id = 20\n",
    "#row_id = 30\n",
    "#row_id = 40\n",
    "#row_id = 50\n",
    "\n",
    "# Get the row from the dataframe (an valid row ids will throw an error)\n",
    "row = df_sample.iloc[row_id]\n",
    "\n",
    "# Just for printing it nicely, we create a new dataframe from this single row\n",
    "pd.DataFrame([row])"
   ]
  },
  {
   "cell_type": "code",
   "execution_count": 22,
   "id": "7b1cd34c",
   "metadata": {},
   "outputs": [
    {
     "data": {
      "text/plain": "   listing_id                                         title  \\\n0      954673  5 bed house for sale in pasir ris beach park   \n1      226790  6 bed house for sale in pasir ris beach park   \n2      819222  5 bed house for sale in pasir ris beach park   \n3      825826  5 bed house for sale in pasir ris beach park   \n4      590775              4 bed condo for sale in the peak   \n5      919788  6 bed house for sale in pasir ris beach park   \n6      675124      5 bed house for sale in chwee chian view   \n7      971430  5 bed house for sale in pasir ris beach park   \n8      243201  5 bed house for sale in pasir ris beach park   \n9      731776         5 bed house for sale in clementi park   \n\n          property_name property_type  built_year  num_beds  num_baths  \\\n0  pasir ris beach park      bungalow      1977.0       5.0        6.0   \n1  pasir ris beach park      Bungalow      1977.0       6.0        6.0   \n2  pasir ris beach park      bungalow      1977.0       5.0        8.0   \n3  pasir ris beach park      Bungalow      1977.0       5.0        8.0   \n4              the peak         condo      1988.0       4.0        5.0   \n5  pasir ris beach park      bungalow      1977.0       6.0        8.0   \n6      chwee chian view      bungalow      1991.0       5.0        5.0   \n7  pasir ris beach park      bungalow      1977.0       5.0        6.0   \n8  pasir ris beach park      bungalow      1977.0       5.0        4.0   \n9         clementi park      bungalow      1985.0       5.0        5.0   \n\n   size_sqft planning_area       price  \n0       7534     pasir ris   9030000.0  \n1       7535     pasir ris   9030000.0  \n2       7535     pasir ris   9030000.0  \n3       7535     pasir ris   8925000.0  \n4       5500    queenstown   7980000.0  \n5       7535     pasir ris   9030000.0  \n6       5000    queenstown   6489000.0  \n7       5091     pasir ris   6510000.0  \n8       5990     pasir ris   6489000.0  \n9       8000      clementi  13629000.0  ",
      "text/html": "<div>\n<style scoped>\n    .dataframe tbody tr th:only-of-type {\n        vertical-align: middle;\n    }\n\n    .dataframe tbody tr th {\n        vertical-align: top;\n    }\n\n    .dataframe thead th {\n        text-align: right;\n    }\n</style>\n<table border=\"1\" class=\"dataframe\">\n  <thead>\n    <tr style=\"text-align: right;\">\n      <th></th>\n      <th>listing_id</th>\n      <th>title</th>\n      <th>property_name</th>\n      <th>property_type</th>\n      <th>built_year</th>\n      <th>num_beds</th>\n      <th>num_baths</th>\n      <th>size_sqft</th>\n      <th>planning_area</th>\n      <th>price</th>\n    </tr>\n  </thead>\n  <tbody>\n    <tr>\n      <th>0</th>\n      <td>954673</td>\n      <td>5 bed house for sale in pasir ris beach park</td>\n      <td>pasir ris beach park</td>\n      <td>bungalow</td>\n      <td>1977.0</td>\n      <td>5.0</td>\n      <td>6.0</td>\n      <td>7534</td>\n      <td>pasir ris</td>\n      <td>9030000.0</td>\n    </tr>\n    <tr>\n      <th>1</th>\n      <td>226790</td>\n      <td>6 bed house for sale in pasir ris beach park</td>\n      <td>pasir ris beach park</td>\n      <td>Bungalow</td>\n      <td>1977.0</td>\n      <td>6.0</td>\n      <td>6.0</td>\n      <td>7535</td>\n      <td>pasir ris</td>\n      <td>9030000.0</td>\n    </tr>\n    <tr>\n      <th>2</th>\n      <td>819222</td>\n      <td>5 bed house for sale in pasir ris beach park</td>\n      <td>pasir ris beach park</td>\n      <td>bungalow</td>\n      <td>1977.0</td>\n      <td>5.0</td>\n      <td>8.0</td>\n      <td>7535</td>\n      <td>pasir ris</td>\n      <td>9030000.0</td>\n    </tr>\n    <tr>\n      <th>3</th>\n      <td>825826</td>\n      <td>5 bed house for sale in pasir ris beach park</td>\n      <td>pasir ris beach park</td>\n      <td>Bungalow</td>\n      <td>1977.0</td>\n      <td>5.0</td>\n      <td>8.0</td>\n      <td>7535</td>\n      <td>pasir ris</td>\n      <td>8925000.0</td>\n    </tr>\n    <tr>\n      <th>4</th>\n      <td>590775</td>\n      <td>4 bed condo for sale in the peak</td>\n      <td>the peak</td>\n      <td>condo</td>\n      <td>1988.0</td>\n      <td>4.0</td>\n      <td>5.0</td>\n      <td>5500</td>\n      <td>queenstown</td>\n      <td>7980000.0</td>\n    </tr>\n    <tr>\n      <th>5</th>\n      <td>919788</td>\n      <td>6 bed house for sale in pasir ris beach park</td>\n      <td>pasir ris beach park</td>\n      <td>bungalow</td>\n      <td>1977.0</td>\n      <td>6.0</td>\n      <td>8.0</td>\n      <td>7535</td>\n      <td>pasir ris</td>\n      <td>9030000.0</td>\n    </tr>\n    <tr>\n      <th>6</th>\n      <td>675124</td>\n      <td>5 bed house for sale in chwee chian view</td>\n      <td>chwee chian view</td>\n      <td>bungalow</td>\n      <td>1991.0</td>\n      <td>5.0</td>\n      <td>5.0</td>\n      <td>5000</td>\n      <td>queenstown</td>\n      <td>6489000.0</td>\n    </tr>\n    <tr>\n      <th>7</th>\n      <td>971430</td>\n      <td>5 bed house for sale in pasir ris beach park</td>\n      <td>pasir ris beach park</td>\n      <td>bungalow</td>\n      <td>1977.0</td>\n      <td>5.0</td>\n      <td>6.0</td>\n      <td>5091</td>\n      <td>pasir ris</td>\n      <td>6510000.0</td>\n    </tr>\n    <tr>\n      <th>8</th>\n      <td>243201</td>\n      <td>5 bed house for sale in pasir ris beach park</td>\n      <td>pasir ris beach park</td>\n      <td>bungalow</td>\n      <td>1977.0</td>\n      <td>5.0</td>\n      <td>4.0</td>\n      <td>5990</td>\n      <td>pasir ris</td>\n      <td>6489000.0</td>\n    </tr>\n    <tr>\n      <th>9</th>\n      <td>731776</td>\n      <td>5 bed house for sale in clementi park</td>\n      <td>clementi park</td>\n      <td>bungalow</td>\n      <td>1985.0</td>\n      <td>5.0</td>\n      <td>5.0</td>\n      <td>8000</td>\n      <td>clementi</td>\n      <td>13629000.0</td>\n    </tr>\n  </tbody>\n</table>\n</div>"
     },
     "execution_count": 22,
     "metadata": {},
     "output_type": "execute_result"
    }
   ],
   "source": [
    "k = 10\n",
    "\n",
    "df_recommendations = get_top_recommendations(row, k=k)\n",
    "\n",
    "df_recommendations.head(k)"
   ]
  },
  {
   "cell_type": "code",
   "execution_count": 22,
   "id": "6f3f3842-1a5c-4656-95b1-c51b7d513d62",
   "metadata": {},
   "outputs": [],
   "source": []
  }
 ],
 "metadata": {
  "kernelspec": {
   "name": "py38",
   "language": "python",
   "display_name": "py38"
  },
  "language_info": {
   "codemirror_mode": {
    "name": "ipython",
    "version": 3
   },
   "file_extension": ".py",
   "mimetype": "text/x-python",
   "name": "python",
   "nbconvert_exporter": "python",
   "pygments_lexer": "ipython3",
   "version": "3.9.12"
  }
 },
 "nbformat": 4,
 "nbformat_minor": 5
}
