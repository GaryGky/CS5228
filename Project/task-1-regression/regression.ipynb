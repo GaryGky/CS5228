{
 "cells": [
  {
   "cell_type": "markdown",
   "metadata": {
    "pycharm": {
     "name": "#%% md\n"
    }
   },
   "source": [
    "# Task1: Regression"
   ]
  },
  {
   "cell_type": "code",
   "execution_count": 43,
   "metadata": {
    "pycharm": {
     "name": "#%%\n"
    }
   },
   "outputs": [],
   "source": [
    "import numpy as np # linear algebra\n",
    "import pandas as pd # data processing, CSV file I/O (e.g. pd.read_csv)\n",
    "from matplotlib import pyplot as plt\n",
    "from sklearn import preprocessing\n",
    "from sklearn.impute import SimpleImputer\n",
    "from sklearn.metrics import mean_squared_error, mean_absolute_error\n",
    "from sklearn.model_selection import train_test_split, GridSearchCV\n",
    "\n",
    "from sklearn.tree import DecisionTreeRegressor\n",
    "from sklearn.ensemble import RandomForestRegressor, GradientBoostingRegressor, AdaBoostRegressor\n",
    "from catboost import CatBoostRegressor\n",
    "\n",
    "# import lightgbm as lgb\n",
    "# from lightgbm.sklearn import LGBMRegressor\n",
    "\n",
    "from xgboost import XGBRegressor, plot_importance\n",
    "\n",
    "from sklearn.linear_model import Ridge, LassoCV, HuberRegressor\n",
    "from sklearn.svm import SVR\n",
    "from sklearn.neighbors import KNeighborsRegressor\n",
    "from mlxtend.regressor import StackingCVRegressor\n",
    "\n",
    "import seaborn as sns\n",
    "\n",
    "\n",
    "plt.style.use('fivethirtyeight')\n",
    "import warnings\n",
    "\n",
    "warnings.filterwarnings('ignore')\n",
    "%matplotlib inline"
   ]
  },
  {
   "cell_type": "code",
   "execution_count": 44,
   "metadata": {
    "pycharm": {
     "name": "#%%\n"
    }
   },
   "outputs": [
    {
     "data": {
      "text/html": [
       "<div>\n",
       "<style scoped>\n",
       "    .dataframe tbody tr th:only-of-type {\n",
       "        vertical-align: middle;\n",
       "    }\n",
       "\n",
       "    .dataframe tbody tr th {\n",
       "        vertical-align: top;\n",
       "    }\n",
       "\n",
       "    .dataframe thead th {\n",
       "        text-align: right;\n",
       "    }\n",
       "</style>\n",
       "<table border=\"1\" class=\"dataframe\">\n",
       "  <thead>\n",
       "    <tr style=\"text-align: right;\">\n",
       "      <th></th>\n",
       "      <th>property_type</th>\n",
       "      <th>tenure</th>\n",
       "      <th>built_year</th>\n",
       "      <th>num_beds</th>\n",
       "      <th>num_baths</th>\n",
       "      <th>size_sqft</th>\n",
       "      <th>furnishing</th>\n",
       "      <th>subzone</th>\n",
       "      <th>planning_area</th>\n",
       "      <th>price</th>\n",
       "      <th>shop_dist</th>\n",
       "      <th>mrt_dist</th>\n",
       "      <th>commercials_dist</th>\n",
       "      <th>second_school_dist</th>\n",
       "      <th>primary_school_dist</th>\n",
       "      <th>density</th>\n",
       "      <th>available_unit_type_is_studio</th>\n",
       "      <th>available_unit_type_min_room</th>\n",
       "      <th>available_unit_type_max_room</th>\n",
       "    </tr>\n",
       "  </thead>\n",
       "  <tbody>\n",
       "  </tbody>\n",
       "</table>\n",
       "</div>"
      ],
      "text/plain": [
       "Empty DataFrame\n",
       "Columns: [property_type, tenure, built_year, num_beds, num_baths, size_sqft, furnishing, subzone, planning_area, price, shop_dist, mrt_dist, commercials_dist, second_school_dist, primary_school_dist, density, available_unit_type_is_studio, available_unit_type_min_room, available_unit_type_max_room]\n",
       "Index: []"
      ]
     },
     "execution_count": 44,
     "metadata": {},
     "output_type": "execute_result"
    }
   ],
   "source": [
    "train = pd.read_csv('../clean/train.csv')\n",
    "test = pd.read_csv('../clean/test.csv')\n",
    "train[train['density'].isna()]"
   ]
  },
  {
   "cell_type": "code",
   "execution_count": 45,
   "metadata": {
    "pycharm": {
     "name": "#%%\n"
    }
   },
   "outputs": [],
   "source": [
    "labelEnc = preprocessing.LabelEncoder()\n",
    "train.planning_area = labelEnc.fit_transform(train.planning_area)\n",
    "train.subzone = labelEnc.fit_transform(train.subzone)\n",
    "train.furnishing = labelEnc.fit_transform(train.furnishing)\n",
    "train.tenure = labelEnc.fit_transform(train.tenure)\n",
    "train.property_type = labelEnc.fit_transform(train.property_type)\n",
    "train.available_unit_type_is_studio = labelEnc.fit_transform(train.available_unit_type_is_studio)\n",
    "\n",
    "test.planning_area = labelEnc.fit_transform(test.planning_area)\n",
    "test.subzone = labelEnc.fit_transform(test.subzone)\n",
    "test.furnishing = labelEnc.fit_transform(test.furnishing)\n",
    "test.tenure = labelEnc.fit_transform(test.tenure)\n",
    "test.property_type = labelEnc.fit_transform(test.property_type)\n",
    "test.available_unit_type_is_studio = labelEnc.fit_transform(test.available_unit_type_is_studio)"
   ]
  },
  {
   "cell_type": "code",
   "execution_count": 46,
   "metadata": {
    "pycharm": {
     "name": "#%%\n"
    }
   },
   "outputs": [
    {
     "data": {
      "text/plain": [
       "property_type                    0\n",
       "tenure                           0\n",
       "built_year                       0\n",
       "num_beds                         0\n",
       "num_baths                        0\n",
       "size_sqft                        0\n",
       "furnishing                       0\n",
       "subzone                          0\n",
       "planning_area                    0\n",
       "shop_dist                        0\n",
       "mrt_dist                         0\n",
       "commercials_dist                 0\n",
       "second_school_dist               0\n",
       "primary_school_dist              0\n",
       "density                          0\n",
       "available_unit_type_is_studio    0\n",
       "available_unit_type_min_room     0\n",
       "available_unit_type_max_room     0\n",
       "dtype: int64"
      ]
     },
     "execution_count": 46,
     "metadata": {},
     "output_type": "execute_result"
    }
   ],
   "source": [
    "test.isnull().sum()"
   ]
  },
  {
   "cell_type": "code",
   "execution_count": 47,
   "metadata": {
    "pycharm": {
     "name": "#%%\n"
    }
   },
   "outputs": [],
   "source": [
    "df_X = train.drop(axis=1,columns=['price'])\n",
    "df_y = train[\"price\"]"
   ]
  },
  {
   "cell_type": "code",
   "execution_count": 48,
   "metadata": {
    "pycharm": {
     "name": "#%%\n"
    }
   },
   "outputs": [
    {
     "data": {
      "text/plain": [
       "property_type                    0\n",
       "tenure                           0\n",
       "built_year                       0\n",
       "num_beds                         0\n",
       "num_baths                        0\n",
       "size_sqft                        0\n",
       "furnishing                       0\n",
       "subzone                          0\n",
       "planning_area                    0\n",
       "shop_dist                        0\n",
       "mrt_dist                         0\n",
       "commercials_dist                 0\n",
       "second_school_dist               0\n",
       "primary_school_dist              0\n",
       "density                          0\n",
       "available_unit_type_is_studio    0\n",
       "available_unit_type_min_room     0\n",
       "available_unit_type_max_room     0\n",
       "dtype: int64"
      ]
     },
     "execution_count": 48,
     "metadata": {},
     "output_type": "execute_result"
    }
   ],
   "source": [
    "df_X.isnull().sum()"
   ]
  },
  {
   "cell_type": "code",
   "execution_count": 49,
   "metadata": {
    "pycharm": {
     "name": "#%%\n"
    }
   },
   "outputs": [
    {
     "name": "stdout",
     "output_type": "stream",
     "text": [
      "Number of features: 18\n",
      "Number of samples for training: 15955\n",
      "Number of samples for testing: 3989\n"
     ]
    }
   ],
   "source": [
    "# Convert dataframes to numpy arrays\n",
    "X, y = df_X.to_numpy(), df_y.to_numpy()\n",
    "y = y.ravel().astype(int)\n",
    "\n",
    "# Split dataset in training and test data (20% test data)\n",
    "X_train, X_val, y_train, y_val = train_test_split(X, y, test_size=0.2, random_state=0)\n",
    "y_train = y_train\n",
    "# Normalize data using the sciki-learn StandardScaler\n",
    "scaler = preprocessing.StandardScaler().fit(X_train)\n",
    "X_train, X_val = scaler.transform(X_train), scaler.transform(X_val)\n",
    "\n",
    "print('Number of features: {}'.format(X_train.shape[1]))\n",
    "print('Number of samples for training: {}'.format(X_train.shape[0]))\n",
    "print('Number of samples for testing: {}'.format(X_val.shape[0]))"
   ]
  },
  {
   "cell_type": "code",
   "execution_count": null,
   "metadata": {
    "pycharm": {
     "name": "#%%\n"
    }
   },
   "outputs": [
    {
     "name": "stdout",
     "output_type": "stream",
     "text": [
      "Learning rate set to 0.063422\n",
      "0:\tlearn: 4001292.3924773\ttotal: 3.65ms\tremaining: 3.64s\n",
      "1:\tlearn: 3850829.5524461\ttotal: 5.79ms\tremaining: 2.89s\n",
      "2:\tlearn: 3711996.8837876\ttotal: 10.1ms\tremaining: 3.37s\n",
      "3:\tlearn: 3578743.9558279\ttotal: 12.6ms\tremaining: 3.13s\n",
      "4:\tlearn: 3458410.0951675\ttotal: 14.9ms\tremaining: 2.96s\n",
      "5:\tlearn: 3345468.0644387\ttotal: 16.8ms\tremaining: 2.78s\n",
      "6:\tlearn: 3247801.7847441\ttotal: 19.5ms\tremaining: 2.76s\n",
      "7:\tlearn: 3154222.4084954\ttotal: 22.2ms\tremaining: 2.75s\n",
      "8:\tlearn: 3066415.2096851\ttotal: 24ms\tremaining: 2.65s\n",
      "9:\tlearn: 2982604.2887382\ttotal: 26.7ms\tremaining: 2.64s\n",
      "10:\tlearn: 2906224.8069196\ttotal: 28.7ms\tremaining: 2.58s\n",
      "11:\tlearn: 2835735.9883527\ttotal: 31ms\tremaining: 2.55s\n",
      "12:\tlearn: 2776088.1221726\ttotal: 34.3ms\tremaining: 2.6s\n",
      "13:\tlearn: 2717450.4086176\ttotal: 36.3ms\tremaining: 2.56s\n",
      "14:\tlearn: 2666136.2049199\ttotal: 38.6ms\tremaining: 2.53s\n",
      "15:\tlearn: 2615813.2423654\ttotal: 40.8ms\tremaining: 2.51s\n",
      "16:\tlearn: 2563514.4819150\ttotal: 43.2ms\tremaining: 2.5s\n",
      "17:\tlearn: 2523905.8614702\ttotal: 45.9ms\tremaining: 2.5s\n",
      "18:\tlearn: 2485778.3096989\ttotal: 48.2ms\tremaining: 2.49s\n",
      "19:\tlearn: 2450175.2595387\ttotal: 50.6ms\tremaining: 2.48s\n",
      "20:\tlearn: 2417618.2665610\ttotal: 52.6ms\tremaining: 2.45s\n",
      "21:\tlearn: 2388722.9446739\ttotal: 54.6ms\tremaining: 2.43s\n",
      "22:\tlearn: 2355527.2243335\ttotal: 56.6ms\tremaining: 2.4s\n",
      "23:\tlearn: 2334821.2274970\ttotal: 58.7ms\tremaining: 2.39s\n",
      "24:\tlearn: 2304750.5573320\ttotal: 60.8ms\tremaining: 2.37s\n",
      "25:\tlearn: 2271336.3684649\ttotal: 63.1ms\tremaining: 2.36s\n",
      "26:\tlearn: 2240558.2220312\ttotal: 65.1ms\tremaining: 2.35s\n",
      "27:\tlearn: 2217770.7080260\ttotal: 67.6ms\tremaining: 2.35s\n",
      "28:\tlearn: 2195133.8855650\ttotal: 69.8ms\tremaining: 2.34s\n",
      "29:\tlearn: 2177017.7316625\ttotal: 72.1ms\tremaining: 2.33s\n",
      "30:\tlearn: 2158325.8902544\ttotal: 74.5ms\tremaining: 2.33s\n",
      "31:\tlearn: 2143584.3734206\ttotal: 76.8ms\tremaining: 2.32s\n",
      "32:\tlearn: 2125292.0152225\ttotal: 78.8ms\tremaining: 2.31s\n",
      "33:\tlearn: 2110935.8042451\ttotal: 81ms\tremaining: 2.3s\n",
      "34:\tlearn: 2101751.6425675\ttotal: 84.5ms\tremaining: 2.33s\n",
      "35:\tlearn: 2090795.6036115\ttotal: 86.6ms\tremaining: 2.32s\n",
      "36:\tlearn: 2075655.5624435\ttotal: 88.5ms\tremaining: 2.3s\n",
      "37:\tlearn: 2064814.4691535\ttotal: 90.8ms\tremaining: 2.3s\n",
      "38:\tlearn: 2048347.3984629\ttotal: 93.5ms\tremaining: 2.3s\n",
      "39:\tlearn: 2036822.7988455\ttotal: 95.8ms\tremaining: 2.3s\n",
      "40:\tlearn: 2026431.0656781\ttotal: 97.4ms\tremaining: 2.28s\n",
      "41:\tlearn: 2016437.9209890\ttotal: 99.6ms\tremaining: 2.27s\n",
      "42:\tlearn: 2005821.8810370\ttotal: 102ms\tremaining: 2.26s\n",
      "43:\tlearn: 1997149.2741526\ttotal: 104ms\tremaining: 2.26s\n",
      "44:\tlearn: 1987646.0215379\ttotal: 106ms\tremaining: 2.26s\n",
      "45:\tlearn: 1975700.3166262\ttotal: 109ms\tremaining: 2.25s\n",
      "46:\tlearn: 1969859.7565698\ttotal: 110ms\tremaining: 2.24s\n",
      "47:\tlearn: 1963779.6591642\ttotal: 113ms\tremaining: 2.24s\n",
      "48:\tlearn: 1957771.3618452\ttotal: 115ms\tremaining: 2.24s\n",
      "49:\tlearn: 1948545.3815389\ttotal: 118ms\tremaining: 2.23s\n",
      "50:\tlearn: 1943306.5102342\ttotal: 120ms\tremaining: 2.23s\n",
      "51:\tlearn: 1937671.7306374\ttotal: 122ms\tremaining: 2.22s\n",
      "52:\tlearn: 1919996.9316245\ttotal: 126ms\tremaining: 2.24s\n",
      "53:\tlearn: 1902891.5270524\ttotal: 128ms\tremaining: 2.23s\n",
      "54:\tlearn: 1887072.3803460\ttotal: 129ms\tremaining: 2.22s\n",
      "55:\tlearn: 1882469.8545091\ttotal: 132ms\tremaining: 2.22s\n",
      "56:\tlearn: 1875745.0691081\ttotal: 134ms\tremaining: 2.21s\n",
      "57:\tlearn: 1868148.7222391\ttotal: 136ms\tremaining: 2.21s\n",
      "58:\tlearn: 1863477.0263621\ttotal: 138ms\tremaining: 2.2s\n",
      "59:\tlearn: 1858474.5272556\ttotal: 140ms\tremaining: 2.19s\n",
      "60:\tlearn: 1853023.4431695\ttotal: 142ms\tremaining: 2.19s\n",
      "61:\tlearn: 1846529.5952049\ttotal: 144ms\tremaining: 2.18s\n",
      "62:\tlearn: 1838650.3699703\ttotal: 146ms\tremaining: 2.18s\n",
      "63:\tlearn: 1831103.3306677\ttotal: 148ms\tremaining: 2.17s\n",
      "64:\tlearn: 1827984.6652029\ttotal: 150ms\tremaining: 2.16s\n",
      "65:\tlearn: 1823678.9815205\ttotal: 152ms\tremaining: 2.15s\n",
      "66:\tlearn: 1815363.9252180\ttotal: 154ms\tremaining: 2.15s\n",
      "67:\tlearn: 1812359.3003206\ttotal: 156ms\tremaining: 2.14s\n",
      "68:\tlearn: 1810756.3084463\ttotal: 158ms\tremaining: 2.14s\n",
      "69:\tlearn: 1806256.9489246\ttotal: 160ms\tremaining: 2.13s\n",
      "70:\tlearn: 1798334.9957956\ttotal: 163ms\tremaining: 2.13s\n",
      "71:\tlearn: 1791454.7093901\ttotal: 165ms\tremaining: 2.13s\n",
      "72:\tlearn: 1785937.0224459\ttotal: 167ms\tremaining: 2.12s\n",
      "73:\tlearn: 1783821.7388112\ttotal: 169ms\tremaining: 2.12s\n",
      "74:\tlearn: 1782400.4420883\ttotal: 171ms\tremaining: 2.11s\n",
      "75:\tlearn: 1778472.0135793\ttotal: 174ms\tremaining: 2.11s\n",
      "76:\tlearn: 1771750.2221380\ttotal: 175ms\tremaining: 2.1s\n",
      "77:\tlearn: 1769509.4967253\ttotal: 178ms\tremaining: 2.1s\n",
      "78:\tlearn: 1765247.3760745\ttotal: 180ms\tremaining: 2.1s\n",
      "79:\tlearn: 1753204.3384731\ttotal: 182ms\tremaining: 2.09s\n",
      "80:\tlearn: 1749749.9175707\ttotal: 184ms\tremaining: 2.09s\n",
      "81:\tlearn: 1746848.9637956\ttotal: 187ms\tremaining: 2.09s\n",
      "82:\tlearn: 1744106.7292066\ttotal: 189ms\tremaining: 2.09s\n",
      "83:\tlearn: 1739637.5738519\ttotal: 191ms\tremaining: 2.08s\n",
      "84:\tlearn: 1736194.7123387\ttotal: 193ms\tremaining: 2.08s\n",
      "85:\tlearn: 1731827.0975486\ttotal: 196ms\tremaining: 2.08s\n",
      "86:\tlearn: 1726934.0093313\ttotal: 198ms\tremaining: 2.08s\n",
      "87:\tlearn: 1719105.9337611\ttotal: 200ms\tremaining: 2.07s\n",
      "88:\tlearn: 1717571.8585490\ttotal: 202ms\tremaining: 2.07s\n",
      "89:\tlearn: 1713709.4780662\ttotal: 204ms\tremaining: 2.06s\n",
      "90:\tlearn: 1709000.6493024\ttotal: 206ms\tremaining: 2.06s\n",
      "91:\tlearn: 1706006.6238131\ttotal: 208ms\tremaining: 2.06s\n",
      "92:\tlearn: 1704666.4113628\ttotal: 210ms\tremaining: 2.05s\n",
      "93:\tlearn: 1702589.2591061\ttotal: 212ms\tremaining: 2.04s\n",
      "94:\tlearn: 1700719.7626504\ttotal: 214ms\tremaining: 2.04s\n",
      "95:\tlearn: 1698347.9860970\ttotal: 217ms\tremaining: 2.05s\n",
      "96:\tlearn: 1695133.4579458\ttotal: 220ms\tremaining: 2.05s\n",
      "97:\tlearn: 1691212.7905872\ttotal: 228ms\tremaining: 2.1s\n",
      "98:\tlearn: 1687171.6005878\ttotal: 230ms\tremaining: 2.1s\n",
      "99:\tlearn: 1683806.6600570\ttotal: 233ms\tremaining: 2.09s\n",
      "100:\tlearn: 1680919.8839659\ttotal: 235ms\tremaining: 2.09s\n",
      "101:\tlearn: 1677111.8485846\ttotal: 237ms\tremaining: 2.08s\n",
      "102:\tlearn: 1675013.1908814\ttotal: 239ms\tremaining: 2.08s\n",
      "103:\tlearn: 1668641.1674973\ttotal: 241ms\tremaining: 2.07s\n",
      "104:\tlearn: 1666664.3770324\ttotal: 243ms\tremaining: 2.07s\n",
      "105:\tlearn: 1662267.1355738\ttotal: 245ms\tremaining: 2.07s\n",
      "106:\tlearn: 1658251.1248594\ttotal: 247ms\tremaining: 2.06s\n",
      "107:\tlearn: 1652258.4696191\ttotal: 249ms\tremaining: 2.06s\n",
      "108:\tlearn: 1648014.2870258\ttotal: 252ms\tremaining: 2.06s\n",
      "109:\tlearn: 1644884.8371002\ttotal: 254ms\tremaining: 2.06s\n",
      "110:\tlearn: 1638498.5872299\ttotal: 256ms\tremaining: 2.05s\n",
      "111:\tlearn: 1634487.9254106\ttotal: 258ms\tremaining: 2.05s\n",
      "112:\tlearn: 1623324.6943569\ttotal: 260ms\tremaining: 2.04s\n",
      "113:\tlearn: 1621894.0734152\ttotal: 262ms\tremaining: 2.04s\n",
      "114:\tlearn: 1620470.1238808\ttotal: 264ms\tremaining: 2.03s\n",
      "115:\tlearn: 1619296.7624854\ttotal: 266ms\tremaining: 2.03s\n",
      "116:\tlearn: 1616880.5351486\ttotal: 268ms\tremaining: 2.02s\n",
      "117:\tlearn: 1614473.6163420\ttotal: 270ms\tremaining: 2.02s\n",
      "118:\tlearn: 1604416.3465780\ttotal: 273ms\tremaining: 2.02s\n",
      "119:\tlearn: 1597084.8260850\ttotal: 274ms\tremaining: 2.01s\n",
      "120:\tlearn: 1593179.5889889\ttotal: 276ms\tremaining: 2.01s\n",
      "121:\tlearn: 1592395.3053131\ttotal: 279ms\tremaining: 2s\n",
      "122:\tlearn: 1585895.6847059\ttotal: 281ms\tremaining: 2s\n",
      "123:\tlearn: 1584416.7655503\ttotal: 283ms\tremaining: 2s\n",
      "124:\tlearn: 1582719.2944122\ttotal: 285ms\tremaining: 1.99s\n",
      "125:\tlearn: 1581186.2786144\ttotal: 287ms\tremaining: 1.99s\n",
      "126:\tlearn: 1579478.2409404\ttotal: 289ms\tremaining: 1.99s\n",
      "127:\tlearn: 1578130.6459726\ttotal: 292ms\tremaining: 1.99s\n",
      "128:\tlearn: 1573010.8813081\ttotal: 293ms\tremaining: 1.98s\n",
      "129:\tlearn: 1562862.8344167\ttotal: 295ms\tremaining: 1.98s\n",
      "130:\tlearn: 1561202.8997040\ttotal: 298ms\tremaining: 1.97s\n",
      "131:\tlearn: 1559502.1508046\ttotal: 300ms\tremaining: 1.97s\n",
      "132:\tlearn: 1555786.0046716\ttotal: 302ms\tremaining: 1.97s\n",
      "133:\tlearn: 1553849.4819450\ttotal: 304ms\tremaining: 1.96s\n",
      "134:\tlearn: 1549184.5448908\ttotal: 306ms\tremaining: 1.96s\n",
      "135:\tlearn: 1544751.4580199\ttotal: 308ms\tremaining: 1.96s\n",
      "136:\tlearn: 1542144.5225567\ttotal: 311ms\tremaining: 1.96s\n",
      "137:\tlearn: 1535899.8303958\ttotal: 313ms\tremaining: 1.95s\n",
      "138:\tlearn: 1530728.6856380\ttotal: 314ms\tremaining: 1.95s\n",
      "139:\tlearn: 1525089.3721162\ttotal: 317ms\tremaining: 1.94s\n",
      "140:\tlearn: 1518741.9343347\ttotal: 319ms\tremaining: 1.94s\n",
      "141:\tlearn: 1516804.5730318\ttotal: 321ms\tremaining: 1.94s\n",
      "142:\tlearn: 1514451.8414166\ttotal: 323ms\tremaining: 1.93s\n",
      "143:\tlearn: 1508725.3173294\ttotal: 325ms\tremaining: 1.93s\n",
      "144:\tlearn: 1507131.4410319\ttotal: 327ms\tremaining: 1.93s\n",
      "145:\tlearn: 1504095.8338160\ttotal: 329ms\tremaining: 1.93s\n",
      "146:\tlearn: 1499865.7193744\ttotal: 332ms\tremaining: 1.92s\n",
      "147:\tlearn: 1495344.6813485\ttotal: 334ms\tremaining: 1.92s\n",
      "148:\tlearn: 1493916.9146047\ttotal: 336ms\tremaining: 1.92s\n",
      "149:\tlearn: 1489416.2107923\ttotal: 338ms\tremaining: 1.92s\n",
      "150:\tlearn: 1481350.4317806\ttotal: 341ms\tremaining: 1.92s\n",
      "151:\tlearn: 1480230.0950541\ttotal: 343ms\tremaining: 1.91s\n",
      "152:\tlearn: 1472767.3825662\ttotal: 345ms\tremaining: 1.91s\n",
      "153:\tlearn: 1470083.6018833\ttotal: 347ms\tremaining: 1.91s\n",
      "154:\tlearn: 1464987.8640859\ttotal: 349ms\tremaining: 1.9s\n",
      "155:\tlearn: 1460038.0036701\ttotal: 352ms\tremaining: 1.9s\n",
      "156:\tlearn: 1454234.5926698\ttotal: 354ms\tremaining: 1.9s\n",
      "157:\tlearn: 1452588.3598570\ttotal: 356ms\tremaining: 1.9s\n",
      "158:\tlearn: 1450903.7523335\ttotal: 358ms\tremaining: 1.89s\n",
      "159:\tlearn: 1444028.6571864\ttotal: 360ms\tremaining: 1.89s\n",
      "160:\tlearn: 1441200.5346818\ttotal: 363ms\tremaining: 1.89s\n",
      "161:\tlearn: 1439543.3810253\ttotal: 365ms\tremaining: 1.89s\n",
      "162:\tlearn: 1437860.6723424\ttotal: 367ms\tremaining: 1.88s\n",
      "163:\tlearn: 1436013.7341771\ttotal: 369ms\tremaining: 1.88s\n",
      "164:\tlearn: 1429000.2931036\ttotal: 371ms\tremaining: 1.88s\n",
      "165:\tlearn: 1424551.0058207\ttotal: 373ms\tremaining: 1.87s\n",
      "166:\tlearn: 1422447.5987896\ttotal: 375ms\tremaining: 1.87s\n",
      "167:\tlearn: 1420329.3659859\ttotal: 377ms\tremaining: 1.87s\n",
      "168:\tlearn: 1417923.1455904\ttotal: 379ms\tremaining: 1.86s\n",
      "169:\tlearn: 1416022.8289001\ttotal: 381ms\tremaining: 1.86s\n",
      "170:\tlearn: 1414595.3023411\ttotal: 383ms\tremaining: 1.86s\n",
      "171:\tlearn: 1413280.4241920\ttotal: 385ms\tremaining: 1.85s\n",
      "172:\tlearn: 1411417.5034002\ttotal: 387ms\tremaining: 1.85s\n",
      "173:\tlearn: 1410439.2163788\ttotal: 389ms\tremaining: 1.84s\n",
      "174:\tlearn: 1403440.9088667\ttotal: 391ms\tremaining: 1.84s\n"
     ]
    },
    {
     "name": "stdout",
     "output_type": "stream",
     "text": [
      "175:\tlearn: 1398006.8035090\ttotal: 393ms\tremaining: 1.84s\n",
      "176:\tlearn: 1396989.9485681\ttotal: 396ms\tremaining: 1.84s\n",
      "177:\tlearn: 1395711.3092488\ttotal: 398ms\tremaining: 1.84s\n",
      "178:\tlearn: 1393233.8805165\ttotal: 400ms\tremaining: 1.83s\n",
      "179:\tlearn: 1391519.5576055\ttotal: 402ms\tremaining: 1.83s\n",
      "180:\tlearn: 1388915.5928535\ttotal: 403ms\tremaining: 1.82s\n",
      "181:\tlearn: 1387860.5733116\ttotal: 406ms\tremaining: 1.82s\n",
      "182:\tlearn: 1387182.7570579\ttotal: 408ms\tremaining: 1.82s\n",
      "183:\tlearn: 1386154.2158206\ttotal: 410ms\tremaining: 1.82s\n",
      "184:\tlearn: 1381501.6502440\ttotal: 413ms\tremaining: 1.82s\n",
      "185:\tlearn: 1376678.6690306\ttotal: 415ms\tremaining: 1.82s\n",
      "186:\tlearn: 1375210.3203412\ttotal: 418ms\tremaining: 1.82s\n",
      "187:\tlearn: 1373600.4506950\ttotal: 420ms\tremaining: 1.81s\n",
      "188:\tlearn: 1372726.6780508\ttotal: 422ms\tremaining: 1.81s\n",
      "189:\tlearn: 1370013.9252199\ttotal: 425ms\tremaining: 1.81s\n",
      "190:\tlearn: 1367416.0716735\ttotal: 427ms\tremaining: 1.81s\n",
      "191:\tlearn: 1365180.4817309\ttotal: 429ms\tremaining: 1.8s\n",
      "192:\tlearn: 1362748.2037162\ttotal: 431ms\tremaining: 1.8s\n",
      "193:\tlearn: 1361236.9672207\ttotal: 433ms\tremaining: 1.8s\n",
      "194:\tlearn: 1360606.8059720\ttotal: 435ms\tremaining: 1.8s\n",
      "195:\tlearn: 1356864.4965824\ttotal: 437ms\tremaining: 1.79s\n",
      "196:\tlearn: 1355440.2756754\ttotal: 439ms\tremaining: 1.79s\n",
      "197:\tlearn: 1353992.1018749\ttotal: 441ms\tremaining: 1.79s\n",
      "198:\tlearn: 1349191.9483030\ttotal: 443ms\tremaining: 1.78s\n",
      "199:\tlearn: 1344063.4124715\ttotal: 445ms\tremaining: 1.78s\n",
      "200:\tlearn: 1343400.1230904\ttotal: 447ms\tremaining: 1.78s\n",
      "201:\tlearn: 1342093.0971578\ttotal: 449ms\tremaining: 1.77s\n",
      "202:\tlearn: 1340175.2101502\ttotal: 452ms\tremaining: 1.77s\n",
      "203:\tlearn: 1337554.2385774\ttotal: 454ms\tremaining: 1.77s\n",
      "204:\tlearn: 1335187.1491564\ttotal: 456ms\tremaining: 1.77s\n",
      "205:\tlearn: 1328375.7150611\ttotal: 459ms\tremaining: 1.77s\n",
      "206:\tlearn: 1324850.8812925\ttotal: 461ms\tremaining: 1.76s\n",
      "207:\tlearn: 1319623.2276692\ttotal: 463ms\tremaining: 1.76s\n",
      "208:\tlearn: 1317182.4359997\ttotal: 465ms\tremaining: 1.76s\n",
      "209:\tlearn: 1310994.6291384\ttotal: 467ms\tremaining: 1.76s\n",
      "210:\tlearn: 1307346.7916511\ttotal: 469ms\tremaining: 1.75s\n",
      "211:\tlearn: 1304315.0527650\ttotal: 471ms\tremaining: 1.75s\n",
      "212:\tlearn: 1301005.3435919\ttotal: 474ms\tremaining: 1.75s\n",
      "213:\tlearn: 1296505.3166458\ttotal: 475ms\tremaining: 1.75s\n",
      "214:\tlearn: 1293965.9730262\ttotal: 477ms\tremaining: 1.74s\n",
      "215:\tlearn: 1290391.3224735\ttotal: 479ms\tremaining: 1.74s\n",
      "216:\tlearn: 1286392.0048515\ttotal: 481ms\tremaining: 1.74s\n",
      "217:\tlearn: 1285264.9463838\ttotal: 483ms\tremaining: 1.73s\n",
      "218:\tlearn: 1281537.2638622\ttotal: 486ms\tremaining: 1.73s\n",
      "219:\tlearn: 1277705.5827563\ttotal: 488ms\tremaining: 1.73s\n",
      "220:\tlearn: 1273952.6864509\ttotal: 490ms\tremaining: 1.73s\n",
      "221:\tlearn: 1269908.0616287\ttotal: 492ms\tremaining: 1.72s\n",
      "222:\tlearn: 1266790.9878029\ttotal: 493ms\tremaining: 1.72s\n",
      "223:\tlearn: 1263691.9938107\ttotal: 496ms\tremaining: 1.72s\n",
      "224:\tlearn: 1258711.8390166\ttotal: 497ms\tremaining: 1.71s\n",
      "225:\tlearn: 1256539.4534755\ttotal: 499ms\tremaining: 1.71s\n",
      "226:\tlearn: 1253438.9227917\ttotal: 502ms\tremaining: 1.71s\n",
      "227:\tlearn: 1251769.1509751\ttotal: 504ms\tremaining: 1.71s\n",
      "228:\tlearn: 1246922.7915841\ttotal: 506ms\tremaining: 1.7s\n",
      "229:\tlearn: 1245617.0842410\ttotal: 507ms\tremaining: 1.7s\n",
      "230:\tlearn: 1244025.2025290\ttotal: 509ms\tremaining: 1.7s\n",
      "231:\tlearn: 1243246.3642428\ttotal: 511ms\tremaining: 1.69s\n",
      "232:\tlearn: 1241756.5948605\ttotal: 513ms\tremaining: 1.69s\n",
      "233:\tlearn: 1239507.1106455\ttotal: 515ms\tremaining: 1.69s\n",
      "234:\tlearn: 1236678.5587738\ttotal: 517ms\tremaining: 1.68s\n",
      "235:\tlearn: 1233055.8181540\ttotal: 520ms\tremaining: 1.68s\n",
      "236:\tlearn: 1230342.5301498\ttotal: 522ms\tremaining: 1.68s\n",
      "237:\tlearn: 1228785.1497022\ttotal: 524ms\tremaining: 1.68s\n",
      "238:\tlearn: 1225843.8696362\ttotal: 526ms\tremaining: 1.67s\n",
      "239:\tlearn: 1225134.1443540\ttotal: 528ms\tremaining: 1.67s\n",
      "240:\tlearn: 1221215.8693288\ttotal: 530ms\tremaining: 1.67s\n",
      "241:\tlearn: 1218845.4072757\ttotal: 532ms\tremaining: 1.67s\n",
      "242:\tlearn: 1217664.9064259\ttotal: 534ms\tremaining: 1.66s\n",
      "243:\tlearn: 1216143.2510548\ttotal: 536ms\tremaining: 1.66s\n",
      "244:\tlearn: 1214128.0963054\ttotal: 538ms\tremaining: 1.66s\n",
      "245:\tlearn: 1211272.8550676\ttotal: 540ms\tremaining: 1.66s\n",
      "246:\tlearn: 1209371.7562313\ttotal: 543ms\tremaining: 1.65s\n",
      "247:\tlearn: 1206540.2987313\ttotal: 545ms\tremaining: 1.65s\n",
      "248:\tlearn: 1204093.7325368\ttotal: 547ms\tremaining: 1.65s\n",
      "249:\tlearn: 1201397.3955404\ttotal: 549ms\tremaining: 1.65s\n",
      "250:\tlearn: 1198783.3965286\ttotal: 551ms\tremaining: 1.64s\n",
      "251:\tlearn: 1198053.6547398\ttotal: 553ms\tremaining: 1.64s\n",
      "252:\tlearn: 1196555.6220377\ttotal: 555ms\tremaining: 1.64s\n",
      "253:\tlearn: 1194017.8048115\ttotal: 557ms\tremaining: 1.64s\n",
      "254:\tlearn: 1192902.9520915\ttotal: 559ms\tremaining: 1.63s\n",
      "255:\tlearn: 1191056.4784438\ttotal: 561ms\tremaining: 1.63s\n",
      "256:\tlearn: 1188840.4409702\ttotal: 563ms\tremaining: 1.63s\n",
      "257:\tlearn: 1186423.0732225\ttotal: 565ms\tremaining: 1.62s\n",
      "258:\tlearn: 1185131.6371379\ttotal: 567ms\tremaining: 1.62s\n",
      "259:\tlearn: 1179700.3953166\ttotal: 569ms\tremaining: 1.62s\n",
      "260:\tlearn: 1178376.3442802\ttotal: 571ms\tremaining: 1.62s\n",
      "261:\tlearn: 1176088.5451194\ttotal: 573ms\tremaining: 1.61s\n",
      "262:\tlearn: 1173870.6476395\ttotal: 576ms\tremaining: 1.61s\n",
      "263:\tlearn: 1171720.4726363\ttotal: 578ms\tremaining: 1.61s\n",
      "264:\tlearn: 1170184.1221511\ttotal: 580ms\tremaining: 1.61s\n",
      "265:\tlearn: 1166149.2044244\ttotal: 582ms\tremaining: 1.61s\n",
      "266:\tlearn: 1163909.9537047\ttotal: 584ms\tremaining: 1.6s\n",
      "267:\tlearn: 1161811.1884034\ttotal: 586ms\tremaining: 1.6s\n",
      "268:\tlearn: 1159349.1307041\ttotal: 588ms\tremaining: 1.6s\n",
      "269:\tlearn: 1156730.6012883\ttotal: 590ms\tremaining: 1.6s\n",
      "270:\tlearn: 1154692.6227704\ttotal: 592ms\tremaining: 1.59s\n",
      "271:\tlearn: 1152716.6543798\ttotal: 595ms\tremaining: 1.59s\n",
      "272:\tlearn: 1150821.2554603\ttotal: 597ms\tremaining: 1.59s\n",
      "273:\tlearn: 1148919.5606237\ttotal: 599ms\tremaining: 1.59s\n",
      "274:\tlearn: 1146961.4619293\ttotal: 601ms\tremaining: 1.58s\n",
      "275:\tlearn: 1145037.5828170\ttotal: 604ms\tremaining: 1.58s\n",
      "276:\tlearn: 1143176.0840602\ttotal: 605ms\tremaining: 1.58s\n",
      "277:\tlearn: 1141374.8215862\ttotal: 608ms\tremaining: 1.58s\n",
      "278:\tlearn: 1139721.1862333\ttotal: 610ms\tremaining: 1.57s\n",
      "279:\tlearn: 1138644.2127837\ttotal: 612ms\tremaining: 1.57s\n",
      "280:\tlearn: 1136978.0775888\ttotal: 614ms\tremaining: 1.57s\n",
      "281:\tlearn: 1135370.0093597\ttotal: 616ms\tremaining: 1.57s\n",
      "282:\tlearn: 1133811.2996858\ttotal: 618ms\tremaining: 1.57s\n",
      "283:\tlearn: 1131899.0963678\ttotal: 621ms\tremaining: 1.56s\n",
      "284:\tlearn: 1130785.8160433\ttotal: 623ms\tremaining: 1.56s\n",
      "285:\tlearn: 1129138.5270456\ttotal: 625ms\tremaining: 1.56s\n",
      "286:\tlearn: 1128222.4479705\ttotal: 627ms\tremaining: 1.56s\n",
      "287:\tlearn: 1123914.5453460\ttotal: 629ms\tremaining: 1.55s\n",
      "288:\tlearn: 1122371.6695317\ttotal: 631ms\tremaining: 1.55s\n",
      "289:\tlearn: 1120357.8106873\ttotal: 633ms\tremaining: 1.55s\n",
      "290:\tlearn: 1119200.1832169\ttotal: 635ms\tremaining: 1.55s\n",
      "291:\tlearn: 1117705.6190388\ttotal: 637ms\tremaining: 1.54s\n",
      "292:\tlearn: 1116104.4918931\ttotal: 639ms\tremaining: 1.54s\n",
      "293:\tlearn: 1115153.6830179\ttotal: 641ms\tremaining: 1.54s\n",
      "294:\tlearn: 1113794.0500657\ttotal: 643ms\tremaining: 1.54s\n",
      "295:\tlearn: 1112476.4659371\ttotal: 645ms\tremaining: 1.53s\n",
      "296:\tlearn: 1109330.0017467\ttotal: 647ms\tremaining: 1.53s\n",
      "297:\tlearn: 1107017.4512096\ttotal: 649ms\tremaining: 1.53s\n",
      "298:\tlearn: 1103096.1222279\ttotal: 652ms\tremaining: 1.53s\n",
      "299:\tlearn: 1101936.3803419\ttotal: 655ms\tremaining: 1.53s\n",
      "300:\tlearn: 1097357.7029329\ttotal: 657ms\tremaining: 1.53s\n",
      "301:\tlearn: 1096178.3700156\ttotal: 660ms\tremaining: 1.52s\n",
      "302:\tlearn: 1094552.6330934\ttotal: 662ms\tremaining: 1.52s\n",
      "303:\tlearn: 1093198.8568464\ttotal: 665ms\tremaining: 1.52s\n",
      "304:\tlearn: 1091962.2105172\ttotal: 668ms\tremaining: 1.52s\n",
      "305:\tlearn: 1090917.1824317\ttotal: 670ms\tremaining: 1.52s\n",
      "306:\tlearn: 1089716.6720612\ttotal: 672ms\tremaining: 1.52s\n",
      "307:\tlearn: 1086947.7713066\ttotal: 677ms\tremaining: 1.52s\n",
      "308:\tlearn: 1086006.5500609\ttotal: 680ms\tremaining: 1.52s\n",
      "309:\tlearn: 1084452.5303288\ttotal: 682ms\tremaining: 1.52s\n",
      "310:\tlearn: 1083351.1422998\ttotal: 684ms\tremaining: 1.51s\n",
      "311:\tlearn: 1082125.7330566\ttotal: 686ms\tremaining: 1.51s\n",
      "312:\tlearn: 1080082.9075183\ttotal: 688ms\tremaining: 1.51s\n",
      "313:\tlearn: 1078909.5818703\ttotal: 693ms\tremaining: 1.51s\n",
      "314:\tlearn: 1077890.2026831\ttotal: 695ms\tremaining: 1.51s\n",
      "315:\tlearn: 1075555.6493456\ttotal: 697ms\tremaining: 1.51s\n",
      "316:\tlearn: 1072776.3145733\ttotal: 699ms\tremaining: 1.51s\n",
      "317:\tlearn: 1069999.1958831\ttotal: 701ms\tremaining: 1.5s\n",
      "318:\tlearn: 1068938.8205159\ttotal: 703ms\tremaining: 1.5s\n",
      "319:\tlearn: 1067423.0243628\ttotal: 707ms\tremaining: 1.5s\n",
      "320:\tlearn: 1066174.1294066\ttotal: 710ms\tremaining: 1.5s\n",
      "321:\tlearn: 1063607.3131360\ttotal: 712ms\tremaining: 1.5s\n",
      "322:\tlearn: 1062639.2791520\ttotal: 714ms\tremaining: 1.5s\n",
      "323:\tlearn: 1061220.9521901\ttotal: 715ms\tremaining: 1.49s\n",
      "324:\tlearn: 1059800.4297411\ttotal: 718ms\tremaining: 1.49s\n",
      "325:\tlearn: 1058885.6182999\ttotal: 720ms\tremaining: 1.49s\n",
      "326:\tlearn: 1058067.3305258\ttotal: 722ms\tremaining: 1.49s\n",
      "327:\tlearn: 1056995.6107056\ttotal: 724ms\tremaining: 1.48s\n",
      "328:\tlearn: 1055108.0231872\ttotal: 727ms\tremaining: 1.48s\n",
      "329:\tlearn: 1054230.6718594\ttotal: 729ms\tremaining: 1.48s\n",
      "330:\tlearn: 1052507.9753648\ttotal: 731ms\tremaining: 1.48s\n",
      "331:\tlearn: 1051642.7651743\ttotal: 733ms\tremaining: 1.47s\n",
      "332:\tlearn: 1049982.9441605\ttotal: 735ms\tremaining: 1.47s\n",
      "333:\tlearn: 1049060.0761618\ttotal: 737ms\tremaining: 1.47s\n",
      "334:\tlearn: 1046146.8847214\ttotal: 741ms\tremaining: 1.47s\n",
      "335:\tlearn: 1043818.7572687\ttotal: 742ms\tremaining: 1.47s\n",
      "336:\tlearn: 1042829.3346118\ttotal: 746ms\tremaining: 1.47s\n",
      "337:\tlearn: 1041884.5088091\ttotal: 748ms\tremaining: 1.46s\n",
      "338:\tlearn: 1039405.7410676\ttotal: 749ms\tremaining: 1.46s\n",
      "339:\tlearn: 1037475.4285212\ttotal: 752ms\tremaining: 1.46s\n",
      "340:\tlearn: 1036594.7037138\ttotal: 754ms\tremaining: 1.46s\n",
      "341:\tlearn: 1035871.7058752\ttotal: 755ms\tremaining: 1.45s\n",
      "342:\tlearn: 1034837.6714640\ttotal: 757ms\tremaining: 1.45s\n",
      "343:\tlearn: 1033818.6553511\ttotal: 760ms\tremaining: 1.45s\n",
      "344:\tlearn: 1032073.5109750\ttotal: 762ms\tremaining: 1.45s\n",
      "345:\tlearn: 1029740.6470138\ttotal: 764ms\tremaining: 1.44s\n",
      "346:\tlearn: 1026358.0887900\ttotal: 767ms\tremaining: 1.44s\n",
      "347:\tlearn: 1022162.2082718\ttotal: 769ms\tremaining: 1.44s\n",
      "348:\tlearn: 1020987.2596989\ttotal: 771ms\tremaining: 1.44s\n",
      "349:\tlearn: 1019534.0570726\ttotal: 774ms\tremaining: 1.44s\n",
      "350:\tlearn: 1018306.9443849\ttotal: 776ms\tremaining: 1.44s\n",
      "351:\tlearn: 1016376.2804867\ttotal: 778ms\tremaining: 1.43s\n",
      "352:\tlearn: 1015709.7928371\ttotal: 780ms\tremaining: 1.43s\n",
      "353:\tlearn: 1013758.1061435\ttotal: 782ms\tremaining: 1.43s\n",
      "354:\tlearn: 1013141.0830983\ttotal: 785ms\tremaining: 1.43s\n"
     ]
    },
    {
     "name": "stdout",
     "output_type": "stream",
     "text": [
      "355:\tlearn: 1011512.7144930\ttotal: 787ms\tremaining: 1.42s\n",
      "356:\tlearn: 1010579.6093463\ttotal: 790ms\tremaining: 1.42s\n",
      "357:\tlearn: 1009523.7626617\ttotal: 792ms\tremaining: 1.42s\n",
      "358:\tlearn: 1008579.3232169\ttotal: 794ms\tremaining: 1.42s\n",
      "359:\tlearn: 1007362.6031327\ttotal: 797ms\tremaining: 1.42s\n",
      "360:\tlearn: 1005390.6725806\ttotal: 800ms\tremaining: 1.42s\n",
      "361:\tlearn: 1004084.6260409\ttotal: 802ms\tremaining: 1.41s\n",
      "362:\tlearn: 1002833.5187532\ttotal: 804ms\tremaining: 1.41s\n",
      "363:\tlearn: 1002046.8706460\ttotal: 807ms\tremaining: 1.41s\n",
      "364:\tlearn: 1000673.2606168\ttotal: 809ms\tremaining: 1.41s\n",
      "365:\tlearn: 999970.9543484\ttotal: 811ms\tremaining: 1.41s\n",
      "366:\tlearn: 998313.3616828\ttotal: 814ms\tremaining: 1.4s\n",
      "367:\tlearn: 997745.3914358\ttotal: 816ms\tremaining: 1.4s\n",
      "368:\tlearn: 996775.9108825\ttotal: 818ms\tremaining: 1.4s\n",
      "369:\tlearn: 993543.2809216\ttotal: 820ms\tremaining: 1.4s\n",
      "370:\tlearn: 992769.2901301\ttotal: 822ms\tremaining: 1.39s\n",
      "371:\tlearn: 991147.3996432\ttotal: 825ms\tremaining: 1.39s\n",
      "372:\tlearn: 989563.0841220\ttotal: 829ms\tremaining: 1.39s\n",
      "373:\tlearn: 988021.5923504\ttotal: 831ms\tremaining: 1.39s\n",
      "374:\tlearn: 987367.6494889\ttotal: 834ms\tremaining: 1.39s\n",
      "375:\tlearn: 986700.0452150\ttotal: 836ms\tremaining: 1.39s\n",
      "376:\tlearn: 984616.6017308\ttotal: 838ms\tremaining: 1.38s\n",
      "377:\tlearn: 983068.5088249\ttotal: 840ms\tremaining: 1.38s\n",
      "378:\tlearn: 980676.8858383\ttotal: 842ms\tremaining: 1.38s\n",
      "379:\tlearn: 979917.4210389\ttotal: 845ms\tremaining: 1.38s\n",
      "380:\tlearn: 977774.1803812\ttotal: 848ms\tremaining: 1.38s\n",
      "381:\tlearn: 976506.7814957\ttotal: 850ms\tremaining: 1.37s\n",
      "382:\tlearn: 975531.6738683\ttotal: 854ms\tremaining: 1.38s\n",
      "383:\tlearn: 974414.3733340\ttotal: 856ms\tremaining: 1.37s\n",
      "384:\tlearn: 973213.8295428\ttotal: 858ms\tremaining: 1.37s\n",
      "385:\tlearn: 970794.7554657\ttotal: 864ms\tremaining: 1.37s\n",
      "386:\tlearn: 968821.1531118\ttotal: 866ms\tremaining: 1.37s\n",
      "387:\tlearn: 968076.7860687\ttotal: 867ms\tremaining: 1.37s\n",
      "388:\tlearn: 966300.0006449\ttotal: 870ms\tremaining: 1.37s\n",
      "389:\tlearn: 963633.0421832\ttotal: 872ms\tremaining: 1.36s\n",
      "390:\tlearn: 962217.9701565\ttotal: 875ms\tremaining: 1.36s\n",
      "391:\tlearn: 961344.1555970\ttotal: 879ms\tremaining: 1.36s\n",
      "392:\tlearn: 958897.2191187\ttotal: 881ms\tremaining: 1.36s\n",
      "393:\tlearn: 957380.8500869\ttotal: 883ms\tremaining: 1.36s\n",
      "394:\tlearn: 955376.2648548\ttotal: 885ms\tremaining: 1.35s\n",
      "395:\tlearn: 954743.0471021\ttotal: 888ms\tremaining: 1.35s\n",
      "396:\tlearn: 952884.5755313\ttotal: 890ms\tremaining: 1.35s\n",
      "397:\tlearn: 952093.4817135\ttotal: 892ms\tremaining: 1.35s\n",
      "398:\tlearn: 951531.7933584\ttotal: 895ms\tremaining: 1.35s\n",
      "399:\tlearn: 950542.3960439\ttotal: 897ms\tremaining: 1.34s\n",
      "400:\tlearn: 949546.3019035\ttotal: 899ms\tremaining: 1.34s\n",
      "401:\tlearn: 946787.4431654\ttotal: 901ms\tremaining: 1.34s\n",
      "402:\tlearn: 945417.4708657\ttotal: 904ms\tremaining: 1.34s\n",
      "403:\tlearn: 944738.3645511\ttotal: 906ms\tremaining: 1.34s\n",
      "404:\tlearn: 944155.8521448\ttotal: 910ms\tremaining: 1.34s\n",
      "405:\tlearn: 943607.7705469\ttotal: 913ms\tremaining: 1.33s\n",
      "406:\tlearn: 941658.5206377\ttotal: 915ms\tremaining: 1.33s\n",
      "407:\tlearn: 940818.9116916\ttotal: 917ms\tremaining: 1.33s\n",
      "408:\tlearn: 940128.7586957\ttotal: 920ms\tremaining: 1.33s\n",
      "409:\tlearn: 938822.3744965\ttotal: 922ms\tremaining: 1.33s\n",
      "410:\tlearn: 937971.6861377\ttotal: 925ms\tremaining: 1.32s\n",
      "411:\tlearn: 937374.2203748\ttotal: 926ms\tremaining: 1.32s\n",
      "412:\tlearn: 936439.0016306\ttotal: 929ms\tremaining: 1.32s\n",
      "413:\tlearn: 934876.3701768\ttotal: 931ms\tremaining: 1.32s\n",
      "414:\tlearn: 933064.5430620\ttotal: 933ms\tremaining: 1.31s\n",
      "415:\tlearn: 931539.4094159\ttotal: 935ms\tremaining: 1.31s\n",
      "416:\tlearn: 929874.0531419\ttotal: 938ms\tremaining: 1.31s\n",
      "417:\tlearn: 928237.3938733\ttotal: 940ms\tremaining: 1.31s\n",
      "418:\tlearn: 927557.9991213\ttotal: 944ms\tremaining: 1.31s\n",
      "419:\tlearn: 926921.5907806\ttotal: 948ms\tremaining: 1.31s\n",
      "420:\tlearn: 926269.4430613\ttotal: 950ms\tremaining: 1.31s\n",
      "421:\tlearn: 925017.0750630\ttotal: 952ms\tremaining: 1.3s\n",
      "422:\tlearn: 923918.0071974\ttotal: 954ms\tremaining: 1.3s\n",
      "423:\tlearn: 923414.4616703\ttotal: 956ms\tremaining: 1.3s\n",
      "424:\tlearn: 922515.1228999\ttotal: 958ms\tremaining: 1.3s\n",
      "425:\tlearn: 920998.2703578\ttotal: 961ms\tremaining: 1.29s\n",
      "426:\tlearn: 919260.5754410\ttotal: 963ms\tremaining: 1.29s\n",
      "427:\tlearn: 917650.7744311\ttotal: 965ms\tremaining: 1.29s\n",
      "428:\tlearn: 916263.4455200\ttotal: 969ms\tremaining: 1.29s\n",
      "429:\tlearn: 915194.4882161\ttotal: 971ms\tremaining: 1.29s\n",
      "430:\tlearn: 913361.2293928\ttotal: 973ms\tremaining: 1.28s\n",
      "431:\tlearn: 912814.4671057\ttotal: 976ms\tremaining: 1.28s\n",
      "432:\tlearn: 912080.3095954\ttotal: 978ms\tremaining: 1.28s\n",
      "433:\tlearn: 910292.1633486\ttotal: 980ms\tremaining: 1.28s\n",
      "434:\tlearn: 909561.6338911\ttotal: 982ms\tremaining: 1.27s\n",
      "435:\tlearn: 907607.6242895\ttotal: 984ms\tremaining: 1.27s\n",
      "436:\tlearn: 906834.4588470\ttotal: 986ms\tremaining: 1.27s\n",
      "437:\tlearn: 904853.2264312\ttotal: 988ms\tremaining: 1.27s\n",
      "438:\tlearn: 902466.8064224\ttotal: 991ms\tremaining: 1.26s\n",
      "439:\tlearn: 901801.4756744\ttotal: 993ms\tremaining: 1.26s\n",
      "440:\tlearn: 901011.5498600\ttotal: 995ms\tremaining: 1.26s\n",
      "441:\tlearn: 899614.5998229\ttotal: 997ms\tremaining: 1.26s\n",
      "442:\tlearn: 898934.6941283\ttotal: 999ms\tremaining: 1.26s\n",
      "443:\tlearn: 897976.3400537\ttotal: 1s\tremaining: 1.25s\n",
      "444:\tlearn: 896492.2458104\ttotal: 1s\tremaining: 1.25s\n",
      "445:\tlearn: 894921.2912002\ttotal: 1s\tremaining: 1.25s\n",
      "446:\tlearn: 894318.5832233\ttotal: 1.01s\tremaining: 1.25s\n",
      "447:\tlearn: 893616.2573748\ttotal: 1.01s\tremaining: 1.24s\n",
      "448:\tlearn: 892931.9826289\ttotal: 1.01s\tremaining: 1.24s\n",
      "449:\tlearn: 892322.1567176\ttotal: 1.01s\tremaining: 1.24s\n",
      "450:\tlearn: 890097.7543404\ttotal: 1.01s\tremaining: 1.24s\n",
      "451:\tlearn: 889153.2565235\ttotal: 1.02s\tremaining: 1.23s\n",
      "452:\tlearn: 888393.7312024\ttotal: 1.02s\tremaining: 1.23s\n",
      "453:\tlearn: 886959.1857398\ttotal: 1.02s\tremaining: 1.23s\n",
      "454:\tlearn: 885900.3451042\ttotal: 1.02s\tremaining: 1.23s\n",
      "455:\tlearn: 885103.0446753\ttotal: 1.02s\tremaining: 1.22s\n",
      "456:\tlearn: 884173.8932595\ttotal: 1.03s\tremaining: 1.22s\n",
      "457:\tlearn: 883541.7895367\ttotal: 1.03s\tremaining: 1.22s\n",
      "458:\tlearn: 883047.8290899\ttotal: 1.03s\tremaining: 1.22s\n",
      "459:\tlearn: 882286.3796697\ttotal: 1.03s\tremaining: 1.21s\n",
      "460:\tlearn: 881182.7744508\ttotal: 1.04s\tremaining: 1.21s\n",
      "461:\tlearn: 880328.4443133\ttotal: 1.04s\tremaining: 1.21s\n",
      "462:\tlearn: 877171.8916194\ttotal: 1.04s\tremaining: 1.21s\n",
      "463:\tlearn: 875707.7492268\ttotal: 1.04s\tremaining: 1.2s\n",
      "464:\tlearn: 874366.5357934\ttotal: 1.04s\tremaining: 1.2s\n",
      "465:\tlearn: 873012.6840742\ttotal: 1.05s\tremaining: 1.2s\n",
      "466:\tlearn: 872196.5682927\ttotal: 1.05s\tremaining: 1.2s\n",
      "467:\tlearn: 871410.9846380\ttotal: 1.05s\tremaining: 1.19s\n",
      "468:\tlearn: 870887.1810807\ttotal: 1.05s\tremaining: 1.19s\n",
      "469:\tlearn: 870265.7791301\ttotal: 1.05s\tremaining: 1.19s\n",
      "470:\tlearn: 868864.0833302\ttotal: 1.06s\tremaining: 1.19s\n",
      "471:\tlearn: 868147.8916971\ttotal: 1.06s\tremaining: 1.19s\n",
      "472:\tlearn: 866810.5050862\ttotal: 1.06s\tremaining: 1.18s\n",
      "473:\tlearn: 866261.9967237\ttotal: 1.06s\tremaining: 1.18s\n",
      "474:\tlearn: 865557.1298963\ttotal: 1.06s\tremaining: 1.18s\n",
      "475:\tlearn: 865317.5597325\ttotal: 1.07s\tremaining: 1.17s\n",
      "476:\tlearn: 864674.8691331\ttotal: 1.07s\tremaining: 1.17s\n",
      "477:\tlearn: 863215.1285484\ttotal: 1.07s\tremaining: 1.17s\n",
      "478:\tlearn: 862634.6156459\ttotal: 1.07s\tremaining: 1.17s\n",
      "479:\tlearn: 861224.4520125\ttotal: 1.07s\tremaining: 1.17s\n",
      "480:\tlearn: 859989.4345429\ttotal: 1.08s\tremaining: 1.16s\n",
      "481:\tlearn: 858770.8330398\ttotal: 1.08s\tremaining: 1.16s\n",
      "482:\tlearn: 857941.0524657\ttotal: 1.08s\tremaining: 1.16s\n",
      "483:\tlearn: 856912.0380833\ttotal: 1.08s\tremaining: 1.16s\n",
      "484:\tlearn: 855204.6324363\ttotal: 1.09s\tremaining: 1.15s\n",
      "485:\tlearn: 854290.6723956\ttotal: 1.09s\tremaining: 1.15s\n",
      "486:\tlearn: 853691.4369763\ttotal: 1.09s\tremaining: 1.15s\n",
      "487:\tlearn: 852697.3765023\ttotal: 1.09s\tremaining: 1.15s\n",
      "488:\tlearn: 852101.1488668\ttotal: 1.09s\tremaining: 1.14s\n",
      "489:\tlearn: 850776.1735028\ttotal: 1.1s\tremaining: 1.14s\n",
      "490:\tlearn: 850310.6584919\ttotal: 1.1s\tremaining: 1.14s\n",
      "491:\tlearn: 849422.2912212\ttotal: 1.1s\tremaining: 1.14s\n",
      "492:\tlearn: 849183.0300649\ttotal: 1.1s\tremaining: 1.13s\n",
      "493:\tlearn: 847989.0439302\ttotal: 1.1s\tremaining: 1.13s\n",
      "494:\tlearn: 846418.7399602\ttotal: 1.11s\tremaining: 1.13s\n",
      "495:\tlearn: 845317.8642510\ttotal: 1.11s\tremaining: 1.13s\n",
      "496:\tlearn: 844634.8824737\ttotal: 1.11s\tremaining: 1.12s\n",
      "497:\tlearn: 843437.2315517\ttotal: 1.11s\tremaining: 1.12s\n",
      "498:\tlearn: 842800.9275110\ttotal: 1.11s\tremaining: 1.12s\n",
      "499:\tlearn: 841581.3417610\ttotal: 1.12s\tremaining: 1.12s\n",
      "500:\tlearn: 840498.2184078\ttotal: 1.12s\tremaining: 1.11s\n",
      "501:\tlearn: 839886.6423880\ttotal: 1.12s\tremaining: 1.11s\n",
      "502:\tlearn: 838967.6090161\ttotal: 1.12s\tremaining: 1.11s\n",
      "503:\tlearn: 838203.4258736\ttotal: 1.13s\tremaining: 1.11s\n",
      "504:\tlearn: 837702.5790674\ttotal: 1.13s\tremaining: 1.1s\n",
      "505:\tlearn: 836194.6856833\ttotal: 1.13s\tremaining: 1.1s\n",
      "506:\tlearn: 835158.9773447\ttotal: 1.13s\tremaining: 1.1s\n",
      "507:\tlearn: 834560.2385382\ttotal: 1.13s\tremaining: 1.1s\n",
      "508:\tlearn: 833572.5496594\ttotal: 1.14s\tremaining: 1.1s\n",
      "509:\tlearn: 831675.6363855\ttotal: 1.14s\tremaining: 1.09s\n",
      "510:\tlearn: 831096.8012295\ttotal: 1.14s\tremaining: 1.09s\n",
      "511:\tlearn: 830269.6583036\ttotal: 1.15s\tremaining: 1.1s\n",
      "512:\tlearn: 829177.4070198\ttotal: 1.16s\tremaining: 1.1s\n",
      "513:\tlearn: 827910.2178790\ttotal: 1.16s\tremaining: 1.1s\n",
      "514:\tlearn: 827324.3043783\ttotal: 1.17s\tremaining: 1.1s\n",
      "515:\tlearn: 826375.3033366\ttotal: 1.17s\tremaining: 1.1s\n",
      "516:\tlearn: 825663.4001304\ttotal: 1.17s\tremaining: 1.09s\n",
      "517:\tlearn: 824667.9634312\ttotal: 1.17s\tremaining: 1.09s\n",
      "518:\tlearn: 823439.1915333\ttotal: 1.18s\tremaining: 1.09s\n",
      "519:\tlearn: 822882.6505165\ttotal: 1.18s\tremaining: 1.09s\n",
      "520:\tlearn: 822032.8285672\ttotal: 1.18s\tremaining: 1.08s\n"
     ]
    },
    {
     "name": "stdout",
     "output_type": "stream",
     "text": [
      "521:\tlearn: 821104.2586742\ttotal: 1.18s\tremaining: 1.08s\n",
      "522:\tlearn: 820564.6758882\ttotal: 1.18s\tremaining: 1.08s\n",
      "523:\tlearn: 819858.1190936\ttotal: 1.19s\tremaining: 1.08s\n",
      "524:\tlearn: 819448.6821834\ttotal: 1.19s\tremaining: 1.07s\n",
      "525:\tlearn: 818540.0558574\ttotal: 1.19s\tremaining: 1.07s\n",
      "526:\tlearn: 817237.8323493\ttotal: 1.19s\tremaining: 1.07s\n",
      "527:\tlearn: 816491.9365669\ttotal: 1.19s\tremaining: 1.07s\n",
      "528:\tlearn: 815362.9178910\ttotal: 1.2s\tremaining: 1.06s\n",
      "529:\tlearn: 814866.5173407\ttotal: 1.2s\tremaining: 1.06s\n",
      "530:\tlearn: 813994.1043619\ttotal: 1.2s\tremaining: 1.06s\n",
      "531:\tlearn: 813686.4689780\ttotal: 1.2s\tremaining: 1.06s\n",
      "532:\tlearn: 813180.8566527\ttotal: 1.21s\tremaining: 1.05s\n",
      "533:\tlearn: 812845.7547711\ttotal: 1.21s\tremaining: 1.05s\n",
      "534:\tlearn: 812322.5943795\ttotal: 1.21s\tremaining: 1.05s\n",
      "535:\tlearn: 811339.2216948\ttotal: 1.21s\tremaining: 1.05s\n",
      "536:\tlearn: 810956.2891643\ttotal: 1.21s\tremaining: 1.04s\n",
      "537:\tlearn: 809702.7557632\ttotal: 1.22s\tremaining: 1.04s\n",
      "538:\tlearn: 809332.7973433\ttotal: 1.22s\tremaining: 1.04s\n",
      "539:\tlearn: 808829.4798385\ttotal: 1.22s\tremaining: 1.04s\n",
      "540:\tlearn: 808421.8098378\ttotal: 1.22s\tremaining: 1.03s\n",
      "541:\tlearn: 808195.4583074\ttotal: 1.22s\tremaining: 1.03s\n",
      "542:\tlearn: 806577.1066369\ttotal: 1.23s\tremaining: 1.03s\n",
      "543:\tlearn: 805254.0776799\ttotal: 1.23s\tremaining: 1.03s\n",
      "544:\tlearn: 804934.6708508\ttotal: 1.23s\tremaining: 1.03s\n",
      "545:\tlearn: 803060.1442157\ttotal: 1.23s\tremaining: 1.02s\n",
      "546:\tlearn: 802842.7532372\ttotal: 1.23s\tremaining: 1.02s\n",
      "547:\tlearn: 802219.3682418\ttotal: 1.24s\tremaining: 1.02s\n",
      "548:\tlearn: 801679.5176959\ttotal: 1.24s\tremaining: 1.02s\n",
      "549:\tlearn: 800347.5375078\ttotal: 1.24s\tremaining: 1.01s\n",
      "550:\tlearn: 800159.7606421\ttotal: 1.24s\tremaining: 1.01s\n",
      "551:\tlearn: 799597.2682971\ttotal: 1.24s\tremaining: 1.01s\n",
      "552:\tlearn: 798154.1521583\ttotal: 1.25s\tremaining: 1.01s\n",
      "553:\tlearn: 796624.6133185\ttotal: 1.25s\tremaining: 1s\n",
      "554:\tlearn: 795995.5997936\ttotal: 1.25s\tremaining: 1s\n",
      "555:\tlearn: 794830.4820314\ttotal: 1.25s\tremaining: 1000ms\n",
      "556:\tlearn: 794306.8067677\ttotal: 1.25s\tremaining: 997ms\n",
      "557:\tlearn: 793871.6180058\ttotal: 1.26s\tremaining: 995ms\n",
      "558:\tlearn: 793274.8765545\ttotal: 1.26s\tremaining: 992ms\n",
      "559:\tlearn: 792875.8573089\ttotal: 1.26s\tremaining: 990ms\n",
      "560:\tlearn: 792571.4658693\ttotal: 1.26s\tremaining: 988ms\n",
      "561:\tlearn: 791730.2734857\ttotal: 1.26s\tremaining: 985ms\n",
      "562:\tlearn: 791281.8831618\ttotal: 1.26s\tremaining: 982ms\n",
      "563:\tlearn: 791096.0806159\ttotal: 1.27s\tremaining: 980ms\n",
      "564:\tlearn: 790892.3187273\ttotal: 1.27s\tremaining: 978ms\n",
      "565:\tlearn: 790610.7946349\ttotal: 1.27s\tremaining: 976ms\n",
      "566:\tlearn: 789966.6384083\ttotal: 1.27s\tremaining: 973ms\n",
      "567:\tlearn: 789563.1836678\ttotal: 1.28s\tremaining: 971ms\n",
      "568:\tlearn: 788692.3064966\ttotal: 1.28s\tremaining: 968ms\n",
      "569:\tlearn: 787877.6876931\ttotal: 1.28s\tremaining: 966ms\n",
      "570:\tlearn: 787197.4607745\ttotal: 1.28s\tremaining: 964ms\n",
      "571:\tlearn: 786363.6053537\ttotal: 1.28s\tremaining: 961ms\n",
      "572:\tlearn: 785595.1631233\ttotal: 1.29s\tremaining: 959ms\n",
      "573:\tlearn: 784728.3406723\ttotal: 1.29s\tremaining: 956ms\n",
      "574:\tlearn: 784210.6636226\ttotal: 1.29s\tremaining: 954ms\n",
      "575:\tlearn: 783547.3235121\ttotal: 1.29s\tremaining: 952ms\n",
      "576:\tlearn: 783127.6070277\ttotal: 1.29s\tremaining: 949ms\n",
      "577:\tlearn: 782655.2876483\ttotal: 1.3s\tremaining: 947ms\n",
      "578:\tlearn: 782220.0517777\ttotal: 1.3s\tremaining: 945ms\n",
      "579:\tlearn: 780644.1528602\ttotal: 1.3s\tremaining: 942ms\n",
      "580:\tlearn: 780284.1116760\ttotal: 1.3s\tremaining: 940ms\n",
      "581:\tlearn: 779745.4745622\ttotal: 1.3s\tremaining: 937ms\n",
      "582:\tlearn: 779423.9182021\ttotal: 1.31s\tremaining: 935ms\n",
      "583:\tlearn: 779125.5659020\ttotal: 1.31s\tremaining: 932ms\n",
      "584:\tlearn: 778827.2726083\ttotal: 1.31s\tremaining: 930ms\n",
      "585:\tlearn: 778552.7569815\ttotal: 1.31s\tremaining: 927ms\n",
      "586:\tlearn: 777235.6874632\ttotal: 1.31s\tremaining: 925ms\n",
      "587:\tlearn: 776053.1756594\ttotal: 1.32s\tremaining: 922ms\n",
      "588:\tlearn: 774963.7495459\ttotal: 1.32s\tremaining: 920ms\n",
      "589:\tlearn: 774627.4801266\ttotal: 1.32s\tremaining: 918ms\n",
      "590:\tlearn: 773730.8012219\ttotal: 1.32s\tremaining: 916ms\n",
      "591:\tlearn: 773522.6162625\ttotal: 1.32s\tremaining: 913ms\n",
      "592:\tlearn: 773212.1249872\ttotal: 1.33s\tremaining: 911ms\n",
      "593:\tlearn: 772957.1912267\ttotal: 1.33s\tremaining: 908ms\n",
      "594:\tlearn: 772465.0781752\ttotal: 1.33s\tremaining: 906ms\n",
      "595:\tlearn: 771117.6626709\ttotal: 1.33s\tremaining: 904ms\n",
      "596:\tlearn: 769695.4679979\ttotal: 1.33s\tremaining: 902ms\n",
      "597:\tlearn: 769353.7563785\ttotal: 1.34s\tremaining: 899ms\n",
      "598:\tlearn: 769151.3208114\ttotal: 1.34s\tremaining: 897ms\n",
      "599:\tlearn: 768673.5562159\ttotal: 1.34s\tremaining: 895ms\n",
      "600:\tlearn: 768409.9333005\ttotal: 1.34s\tremaining: 892ms\n",
      "601:\tlearn: 767184.0147123\ttotal: 1.35s\tremaining: 890ms\n",
      "602:\tlearn: 766866.6675942\ttotal: 1.35s\tremaining: 888ms\n",
      "603:\tlearn: 766456.6026472\ttotal: 1.35s\tremaining: 885ms\n",
      "604:\tlearn: 765763.2486511\ttotal: 1.35s\tremaining: 883ms\n",
      "605:\tlearn: 765250.6832024\ttotal: 1.35s\tremaining: 880ms\n",
      "606:\tlearn: 764571.6303420\ttotal: 1.36s\tremaining: 878ms\n",
      "607:\tlearn: 764324.8299070\ttotal: 1.36s\tremaining: 876ms\n",
      "608:\tlearn: 763987.2564467\ttotal: 1.36s\tremaining: 873ms\n",
      "609:\tlearn: 763623.3580417\ttotal: 1.36s\tremaining: 871ms\n",
      "610:\tlearn: 763276.1703622\ttotal: 1.36s\tremaining: 869ms\n",
      "611:\tlearn: 763105.4795754\ttotal: 1.37s\tremaining: 867ms\n",
      "612:\tlearn: 762404.9685886\ttotal: 1.37s\tremaining: 865ms\n",
      "613:\tlearn: 761713.0572669\ttotal: 1.37s\tremaining: 863ms\n",
      "614:\tlearn: 760986.0884963\ttotal: 1.37s\tremaining: 861ms\n",
      "615:\tlearn: 760649.5512966\ttotal: 1.38s\tremaining: 859ms\n",
      "616:\tlearn: 760324.5248052\ttotal: 1.38s\tremaining: 856ms\n",
      "617:\tlearn: 759782.4641589\ttotal: 1.38s\tremaining: 855ms\n",
      "618:\tlearn: 759333.4773570\ttotal: 1.39s\tremaining: 853ms\n",
      "619:\tlearn: 758481.5080896\ttotal: 1.39s\tremaining: 850ms\n",
      "620:\tlearn: 758119.4674709\ttotal: 1.39s\tremaining: 849ms\n",
      "621:\tlearn: 757163.8702687\ttotal: 1.39s\tremaining: 847ms\n",
      "622:\tlearn: 756653.9022857\ttotal: 1.4s\tremaining: 844ms\n",
      "623:\tlearn: 756332.7956099\ttotal: 1.4s\tremaining: 844ms\n",
      "624:\tlearn: 755913.5774796\ttotal: 1.4s\tremaining: 842ms\n",
      "625:\tlearn: 755324.7573379\ttotal: 1.41s\tremaining: 840ms\n",
      "626:\tlearn: 754333.3515201\ttotal: 1.41s\tremaining: 838ms\n",
      "627:\tlearn: 753662.2283069\ttotal: 1.41s\tremaining: 836ms\n",
      "628:\tlearn: 753218.9775928\ttotal: 1.42s\tremaining: 835ms\n",
      "629:\tlearn: 752198.2135273\ttotal: 1.42s\tremaining: 832ms\n",
      "630:\tlearn: 751860.3681070\ttotal: 1.42s\tremaining: 830ms\n",
      "631:\tlearn: 751354.2751961\ttotal: 1.42s\tremaining: 829ms\n",
      "632:\tlearn: 751018.5889731\ttotal: 1.43s\tremaining: 827ms\n",
      "633:\tlearn: 750761.5390483\ttotal: 1.43s\tremaining: 825ms\n",
      "634:\tlearn: 749767.2463164\ttotal: 1.43s\tremaining: 823ms\n",
      "635:\tlearn: 749442.8850028\ttotal: 1.43s\tremaining: 821ms\n",
      "636:\tlearn: 749117.6461843\ttotal: 1.44s\tremaining: 818ms\n",
      "637:\tlearn: 748778.5085071\ttotal: 1.44s\tremaining: 818ms\n",
      "638:\tlearn: 747910.1239290\ttotal: 1.44s\tremaining: 815ms\n",
      "639:\tlearn: 747501.1180883\ttotal: 1.45s\tremaining: 814ms\n",
      "640:\tlearn: 747380.5550917\ttotal: 1.45s\tremaining: 812ms\n",
      "641:\tlearn: 747098.6003471\ttotal: 1.45s\tremaining: 809ms\n",
      "642:\tlearn: 746725.3157417\ttotal: 1.45s\tremaining: 807ms\n",
      "643:\tlearn: 746411.8765265\ttotal: 1.45s\tremaining: 804ms\n",
      "644:\tlearn: 745425.0425200\ttotal: 1.46s\tremaining: 802ms\n",
      "645:\tlearn: 744997.0919516\ttotal: 1.46s\tremaining: 800ms\n",
      "646:\tlearn: 744757.8251142\ttotal: 1.46s\tremaining: 797ms\n",
      "647:\tlearn: 743968.4225625\ttotal: 1.46s\tremaining: 796ms\n",
      "648:\tlearn: 743590.8121108\ttotal: 1.47s\tremaining: 793ms\n",
      "649:\tlearn: 743077.1666154\ttotal: 1.47s\tremaining: 791ms\n",
      "650:\tlearn: 742676.0079740\ttotal: 1.47s\tremaining: 789ms\n",
      "651:\tlearn: 742232.0056457\ttotal: 1.47s\tremaining: 787ms\n",
      "652:\tlearn: 741600.0359935\ttotal: 1.48s\tremaining: 784ms\n",
      "653:\tlearn: 741243.0649457\ttotal: 1.48s\tremaining: 783ms\n",
      "654:\tlearn: 740925.4889676\ttotal: 1.48s\tremaining: 780ms\n",
      "655:\tlearn: 740537.2771196\ttotal: 1.48s\tremaining: 778ms\n",
      "656:\tlearn: 739716.3796503\ttotal: 1.49s\tremaining: 775ms\n",
      "657:\tlearn: 738509.3572842\ttotal: 1.49s\tremaining: 774ms\n",
      "658:\tlearn: 737474.6041012\ttotal: 1.49s\tremaining: 772ms\n",
      "659:\tlearn: 736918.3066892\ttotal: 1.49s\tremaining: 769ms\n",
      "660:\tlearn: 736663.7536870\ttotal: 1.5s\tremaining: 768ms\n",
      "661:\tlearn: 735789.3321010\ttotal: 1.5s\tremaining: 766ms\n",
      "662:\tlearn: 734385.8959632\ttotal: 1.5s\tremaining: 763ms\n",
      "663:\tlearn: 733605.8817777\ttotal: 1.5s\tremaining: 761ms\n",
      "664:\tlearn: 733099.6253875\ttotal: 1.51s\tremaining: 759ms\n",
      "665:\tlearn: 732138.7228710\ttotal: 1.51s\tremaining: 757ms\n",
      "666:\tlearn: 731878.0120123\ttotal: 1.51s\tremaining: 754ms\n",
      "667:\tlearn: 730841.4042990\ttotal: 1.51s\tremaining: 752ms\n",
      "668:\tlearn: 730484.5199358\ttotal: 1.51s\tremaining: 750ms\n",
      "669:\tlearn: 730230.0739601\ttotal: 1.52s\tremaining: 747ms\n",
      "670:\tlearn: 729931.9984340\ttotal: 1.52s\tremaining: 746ms\n",
      "671:\tlearn: 729694.9894079\ttotal: 1.52s\tremaining: 744ms\n",
      "672:\tlearn: 729360.8889444\ttotal: 1.52s\tremaining: 741ms\n",
      "673:\tlearn: 729134.6939942\ttotal: 1.53s\tremaining: 739ms\n",
      "674:\tlearn: 728844.5226000\ttotal: 1.53s\tremaining: 737ms\n",
      "675:\tlearn: 728173.0506399\ttotal: 1.53s\tremaining: 735ms\n",
      "676:\tlearn: 727764.2205730\ttotal: 1.54s\tremaining: 733ms\n",
      "677:\tlearn: 727054.6997013\ttotal: 1.54s\tremaining: 731ms\n",
      "678:\tlearn: 726166.3485503\ttotal: 1.54s\tremaining: 728ms\n",
      "679:\tlearn: 725351.1737306\ttotal: 1.54s\tremaining: 726ms\n",
      "680:\tlearn: 725107.4369864\ttotal: 1.55s\tremaining: 725ms\n",
      "681:\tlearn: 724206.3400381\ttotal: 1.55s\tremaining: 723ms\n",
      "682:\tlearn: 722791.9077169\ttotal: 1.55s\tremaining: 722ms\n",
      "683:\tlearn: 722293.2439649\ttotal: 1.56s\tremaining: 719ms\n",
      "684:\tlearn: 721902.1168427\ttotal: 1.56s\tremaining: 717ms\n",
      "685:\tlearn: 721242.6919946\ttotal: 1.56s\tremaining: 716ms\n",
      "686:\tlearn: 720740.5943616\ttotal: 1.57s\tremaining: 714ms\n",
      "687:\tlearn: 720449.7592931\ttotal: 1.57s\tremaining: 712ms\n",
      "688:\tlearn: 719984.9303911\ttotal: 1.57s\tremaining: 710ms\n",
      "689:\tlearn: 719445.7149662\ttotal: 1.57s\tremaining: 707ms\n"
     ]
    }
   ],
   "source": [
    "%%time\n",
    "randomForestRegressor = RandomForestRegressor().fit(X_train, y_train)\n",
    "decisionTreeRegressor = DecisionTreeRegressor().fit(X_train, y_train)\n",
    "adaBoostRegressor = AdaBoostRegressor().fit(X_train, y_train)\n",
    "gdbtRegressor = GradientBoostingRegressor().fit(X_train, y_train)\n",
    "catBoostRegressor = CatBoostRegressor().fit(X_train, y_train)"
   ]
  },
  {
   "cell_type": "code",
   "execution_count": null,
   "metadata": {
    "pycharm": {
     "name": "#%%\n"
    }
   },
   "outputs": [],
   "source": [
    "\n",
    "%%time\n",
    "print('Root Mean Squared Errors for all regressors')\n",
    "print('============================')\n",
    "rlist = []\n",
    "\n",
    "for rgs in [decisionTreeRegressor, randomForestRegressor, gdbtRegressor, catBoostRegressor]:\n",
    "    try:\n",
    "        # Predict for test samples\n",
    "        y_pred = rgs.predict(X_val)\n",
    "        # Calculate the root mean squared error and mean absolute error\n",
    "        rmse = np.sqrt(mean_squared_error(y_val, y_pred))\n",
    "        mae = mean_absolute_error(y_val, y_pred)\n",
    "        rlist.append(rmse)\n",
    "    except Exception as e:\n",
    "        print(e)\n",
    "        # Handle exception (e.g., a classifier is still None)\n",
    "        mae = '---'\n",
    "\n",
    "    print('{} mae: {:.3} rmse: {:.3}'.format(type(rgs).__name__, mae, rmse))\n"
   ]
  },
  {
   "cell_type": "code",
   "execution_count": 36,
   "metadata": {
    "pycharm": {
     "name": "#%%\n"
    }
   },
   "outputs": [
    {
     "data": {
      "text/plain": [
       "[2168030.002655974, 1466749.6275708748, 1924176.1905884217, 1455464.5063606033]"
      ]
     },
     "execution_count": 36,
     "metadata": {},
     "output_type": "execute_result"
    }
   ],
   "source": [
    "rlist"
   ]
  },
  {
   "cell_type": "code",
   "execution_count": 79,
   "metadata": {
    "pycharm": {
     "name": "#%%\n"
    }
   },
   "outputs": [
    {
     "name": "stdout",
     "output_type": "stream",
     "text": [
      "Root Mean Squared Error : 8811563.407103725\n",
      "CPU times: user 10.2 s, sys: 204 ms, total: 10.4 s\n",
      "Wall time: 931 ms\n"
     ]
    }
   ],
   "source": [
    "%%time\n",
    "X, y = df_X.to_numpy(), df_y.to_numpy()\n",
    "y = y.ravel().astype(int)\n",
    "\n",
    "# LightGBM\n",
    "train_X, val_X, train_y, val_y = train_test_split(X, y, test_size=0.2)\n",
    "my_imputer = SimpleImputer()\n",
    "train_X = my_imputer.fit_transform(train_X)\n",
    "val_X = my_imputer.transform(val_X)\n",
    "\n",
    "lgbm = lgb.LGBMRegressor(objective='regression', learning_rate=0.05, n_estimators=1000)\n",
    "lgbm.fit(train_X, train_y, verbose=False)\n",
    "\n",
    "predictions = lgbm.predict(val_X)\n",
    "\n",
    "rmse = np.sqrt(mean_squared_error(predictions, val_y))\n",
    "print(\"Root Mean Squared Error : \" + str(rmse))\n",
    "rlist.append(rmse)"
   ]
  },
  {
   "cell_type": "code",
   "execution_count": 80,
   "metadata": {
    "pycharm": {
     "name": "#%%\n"
    }
   },
   "outputs": [
    {
     "data": {
      "image/png": "[encoded data removed]",
      "text/plain": [
       "<Figure size 640x480 with 1 Axes>"
      ]
     },
     "metadata": {},
     "output_type": "display_data"
    },
    {
     "name": "stdout",
     "output_type": "stream",
     "text": [
      "Root Mean Squared Error : 5492365.861273691\n",
      "CPU times: user 1min 6s, sys: 1.46 s, total: 1min 7s\n",
      "Wall time: 5.96 s\n"
     ]
    }
   ],
   "source": [
    "%%time\n",
    "\n",
    "X, y = df_X.to_numpy(), df_y.to_numpy()\n",
    "y = y.ravel().astype(int)\n",
    "\n",
    "xgb = XGBRegressor(learning_rate=0.05, n_estimators=1000,  objective='reg:gamma')\n",
    "xgb.fit(X_train, y_train)\n",
    "\n",
    "pred = xgb.predict(X_val)\n",
    "\n",
    "plot_importance(xgb)\n",
    "plt.show()\n",
    "\n",
    "rmse = np.sqrt(mean_squared_error(pred, val_y))\n",
    "print(\"Root Mean Squared Error : \" + str(rmse))\n",
    "rlist.append(rmse)"
   ]
  },
  {
   "cell_type": "code",
   "execution_count": 81,
   "metadata": {
    "pycharm": {
     "name": "#%%\n"
    }
   },
   "outputs": [
    {
     "name": "stdout",
     "output_type": "stream",
     "text": [
      "StackingCVRegressor mae: 3.02e+05 rmse: 1.89e+06\n",
      "CPU times: user 8min 13s, sys: 9.78 s, total: 8min 23s\n",
      "Wall time: 1min 54s\n"
     ]
    }
   ],
   "source": [
    "%%time\n",
    "\n",
    "stackmodel = StackingCVRegressor(regressors=(decisionTreeRegressor, randomForestRegressor, gdbtRegressor, lgbm, xgb), meta_regressor=randomForestRegressor, use_features_in_secondary=True)\n",
    "rgs_stack = stackmodel.fit(X_train, y_train)\n",
    "y_pred = rgs_stack.predict(X_val)\n",
    "\n",
    "# Calculate the root mean squared error\n",
    "rmse = np.sqrt(mean_squared_error(y_val, y_pred))\n",
    "mae = mean_absolute_error(y_val, y_pred)\n",
    "print('{} mae: {:.3} rmse: {:.3}'.format(type(rgs_stack).__name__, mae, rmse))\n",
    "rlist.append(rmse)"
   ]
  },
  {
   "cell_type": "code",
   "execution_count": 82,
   "metadata": {
    "pycharm": {
     "name": "#%%\n"
    }
   },
   "outputs": [
    {
     "data": {
      "text/plain": [
       "[1710243.1902198498,\n",
       " 1551386.4533522185,\n",
       " 2211163.743958443,\n",
       " 1591022.1740315824,\n",
       " 8811563.407103725,\n",
       " 5492365.861273691,\n",
       " 1892798.1713578098]"
      ]
     },
     "execution_count": 82,
     "metadata": {},
     "output_type": "execute_result"
    }
   ],
   "source": [
    "rlist"
   ]
  },
  {
   "cell_type": "code",
   "execution_count": 84,
   "metadata": {
    "pycharm": {
     "name": "#%%\n"
    }
   },
   "outputs": [
    {
     "data": {
      "text/plain": [
       "Text(0.5, 1.0, 'Distribution plot of RMSE')"
      ]
     },
     "execution_count": 84,
     "metadata": {},
     "output_type": "execute_result"
    },
    {
     "data": {
      "image/png": "[encoded data removed]",
      "text/plain": [
       "<Figure size 640x480 with 1 Axes>"
      ]
     },
     "metadata": {},
     "output_type": "display_data"
    }
   ],
   "source": [
    "plt.figure()\n",
    "sns.barplot(x=[\"DTree\", \"RForest\", \"GB\",\"CatBoost\", \"XGB\", \"LGBM\", \"Stacking\"], y=rlist)\n",
    "plt.title(\"Distribution plot of RMSE\")"
   ]
  },
  {
   "cell_type": "code",
   "execution_count": 85,
   "metadata": {
    "pycharm": {
     "name": "#%%\n"
    }
   },
   "outputs": [
    {
     "name": "stdout",
     "output_type": "stream",
     "text": [
      "Best RandomForestRegressor: {'bootstrap': True, 'max_depth': 10, 'max_features': 12, 'n_estimators': 20} (RMSE: 1394637678.379)\n",
      "CPU times: user 4min 29s, sys: 2.53 s, total: 4min 32s\n",
      "Wall time: 4min 35s\n"
     ]
    }
   ],
   "source": [
    "%%time\n",
    "\n",
    "param_grid = {\n",
    "    'n_estimators': [20, 40, 100],\n",
    "    'max_depth': [3, 10, None],\n",
    "    'max_features': [12, 18, 27],\n",
    "    'bootstrap': [True]\n",
    "             }\n",
    "\n",
    "rgs = RandomForestRegressor()\n",
    "model = GridSearchCV(rgs, param_grid, cv=5,\n",
    "                          scoring='neg_mean_squared_error')\n",
    "model.fit(X_train, y_train)\n",
    "\n",
    "# Store the parameters of the best model\n",
    "best_params = model.best_params_\n",
    "\n",
    "# Predict with test data on the model with the best found parameters\n",
    "y_pred = model.predict(val_X)\n",
    "\n",
    "# Calculate the root mean squared error\n",
    "best_rmse = np.sqrt(mean_squared_error(y_val, y_pred))\n",
    "\n",
    "print('Best RandomForestRegressor: {} (RMSE: {:.3f})'.format(best_params, best_rmse))"
   ]
  },
  {
   "cell_type": "code",
   "execution_count": 86,
   "metadata": {
    "pycharm": {
     "name": "#%%\n"
    }
   },
   "outputs": [],
   "source": [
    "pd.Series(y_pred).to_csv('../prediction/1.csv',index=True,index_label=['Id','Predicted'])"
   ]
  },
  {
   "cell_type": "code",
   "execution_count": 87,
   "metadata": {
    "pycharm": {
     "name": "#%%\n"
    }
   },
   "outputs": [
    {
     "name": "stdout",
     "output_type": "stream",
     "text": [
      "CPU times: user 2.36 s, sys: 222 ms, total: 2.59 s\n",
      "Wall time: 357 ms\n"
     ]
    }
   ],
   "source": [
    "%%time\n",
    "\n",
    "rgs = rgs_stack\n",
    "X_for_test = scaler.transform(test)\n",
    "y_pred_stack = rgs.predict(X_for_test)"
   ]
  },
  {
   "cell_type": "code",
   "execution_count": 88,
   "metadata": {
    "pycharm": {
     "name": "#%%\n"
    }
   },
   "outputs": [],
   "source": [
    "pd.Series(y_pred_stack).to_csv('../prediction/1.csv',index=True,index_label=['Id','Predicted'])"
   ]
  },
  {
   "cell_type": "code",
   "execution_count": 89,
   "metadata": {
    "pycharm": {
     "name": "#%%\n"
    }
   },
   "outputs": [
    {
     "data": {
      "text/plain": [
       "array([1065506., 1341741., 1156800., ..., 3294158.,  556565., 4117008.])"
      ]
     },
     "execution_count": 89,
     "metadata": {},
     "output_type": "execute_result"
    }
   ],
   "source": [
    "y_pred_stack"
   ]
  },
  {
   "cell_type": "code",
   "execution_count": null,
   "metadata": {},
   "outputs": [],
   "source": [
    "# Catboost"
   ]
  },
  {
   "cell_type": "code",
   "execution_count": 37,
   "metadata": {},
   "outputs": [
    {
     "ename": "ValueError",
     "evalue": "X has 18 features, but StandardScaler is expecting 19 features as input.",
     "output_type": "error",
     "traceback": [
      "\u001b[0;31m---------------------------------------------------------------------------\u001b[0m",
      "\u001b[0;31mValueError\u001b[0m                                Traceback (most recent call last)",
      "File \u001b[0;32m<timed exec>:1\u001b[0m\n",
      "File \u001b[0;32m/opt/homebrew/lib/python3.10/site-packages/sklearn/preprocessing/_data.py:975\u001b[0m, in \u001b[0;36mStandardScaler.transform\u001b[0;34m(self, X, copy)\u001b[0m\n\u001b[1;32m    972\u001b[0m check_is_fitted(\u001b[38;5;28mself\u001b[39m)\n\u001b[1;32m    974\u001b[0m copy \u001b[38;5;241m=\u001b[39m copy \u001b[38;5;28;01mif\u001b[39;00m copy \u001b[38;5;129;01mis\u001b[39;00m \u001b[38;5;129;01mnot\u001b[39;00m \u001b[38;5;28;01mNone\u001b[39;00m \u001b[38;5;28;01melse\u001b[39;00m \u001b[38;5;28mself\u001b[39m\u001b[38;5;241m.\u001b[39mcopy\n\u001b[0;32m--> 975\u001b[0m X \u001b[38;5;241m=\u001b[39m \u001b[38;5;28;43mself\u001b[39;49m\u001b[38;5;241;43m.\u001b[39;49m\u001b[43m_validate_data\u001b[49m\u001b[43m(\u001b[49m\n\u001b[1;32m    976\u001b[0m \u001b[43m    \u001b[49m\u001b[43mX\u001b[49m\u001b[43m,\u001b[49m\n\u001b[1;32m    977\u001b[0m \u001b[43m    \u001b[49m\u001b[43mreset\u001b[49m\u001b[38;5;241;43m=\u001b[39;49m\u001b[38;5;28;43;01mFalse\u001b[39;49;00m\u001b[43m,\u001b[49m\n\u001b[1;32m    978\u001b[0m \u001b[43m    \u001b[49m\u001b[43maccept_sparse\u001b[49m\u001b[38;5;241;43m=\u001b[39;49m\u001b[38;5;124;43m\"\u001b[39;49m\u001b[38;5;124;43mcsr\u001b[39;49m\u001b[38;5;124;43m\"\u001b[39;49m\u001b[43m,\u001b[49m\n\u001b[1;32m    979\u001b[0m \u001b[43m    \u001b[49m\u001b[43mcopy\u001b[49m\u001b[38;5;241;43m=\u001b[39;49m\u001b[43mcopy\u001b[49m\u001b[43m,\u001b[49m\n\u001b[1;32m    980\u001b[0m \u001b[43m    \u001b[49m\u001b[43mdtype\u001b[49m\u001b[38;5;241;43m=\u001b[39;49m\u001b[43mFLOAT_DTYPES\u001b[49m\u001b[43m,\u001b[49m\n\u001b[1;32m    981\u001b[0m \u001b[43m    \u001b[49m\u001b[43mforce_all_finite\u001b[49m\u001b[38;5;241;43m=\u001b[39;49m\u001b[38;5;124;43m\"\u001b[39;49m\u001b[38;5;124;43mallow-nan\u001b[39;49m\u001b[38;5;124;43m\"\u001b[39;49m\u001b[43m,\u001b[49m\n\u001b[1;32m    982\u001b[0m \u001b[43m\u001b[49m\u001b[43m)\u001b[49m\n\u001b[1;32m    984\u001b[0m \u001b[38;5;28;01mif\u001b[39;00m sparse\u001b[38;5;241m.\u001b[39missparse(X):\n\u001b[1;32m    985\u001b[0m     \u001b[38;5;28;01mif\u001b[39;00m \u001b[38;5;28mself\u001b[39m\u001b[38;5;241m.\u001b[39mwith_mean:\n",
      "File \u001b[0;32m/opt/homebrew/lib/python3.10/site-packages/sklearn/base.py:600\u001b[0m, in \u001b[0;36mBaseEstimator._validate_data\u001b[0;34m(self, X, y, reset, validate_separately, **check_params)\u001b[0m\n\u001b[1;32m    597\u001b[0m     out \u001b[38;5;241m=\u001b[39m X, y\n\u001b[1;32m    599\u001b[0m \u001b[38;5;28;01mif\u001b[39;00m \u001b[38;5;129;01mnot\u001b[39;00m no_val_X \u001b[38;5;129;01mand\u001b[39;00m check_params\u001b[38;5;241m.\u001b[39mget(\u001b[38;5;124m\"\u001b[39m\u001b[38;5;124mensure_2d\u001b[39m\u001b[38;5;124m\"\u001b[39m, \u001b[38;5;28;01mTrue\u001b[39;00m):\n\u001b[0;32m--> 600\u001b[0m     \u001b[38;5;28;43mself\u001b[39;49m\u001b[38;5;241;43m.\u001b[39;49m\u001b[43m_check_n_features\u001b[49m\u001b[43m(\u001b[49m\u001b[43mX\u001b[49m\u001b[43m,\u001b[49m\u001b[43m \u001b[49m\u001b[43mreset\u001b[49m\u001b[38;5;241;43m=\u001b[39;49m\u001b[43mreset\u001b[49m\u001b[43m)\u001b[49m\n\u001b[1;32m    602\u001b[0m \u001b[38;5;28;01mreturn\u001b[39;00m out\n",
      "File \u001b[0;32m/opt/homebrew/lib/python3.10/site-packages/sklearn/base.py:400\u001b[0m, in \u001b[0;36mBaseEstimator._check_n_features\u001b[0;34m(self, X, reset)\u001b[0m\n\u001b[1;32m    397\u001b[0m     \u001b[38;5;28;01mreturn\u001b[39;00m\n\u001b[1;32m    399\u001b[0m \u001b[38;5;28;01mif\u001b[39;00m n_features \u001b[38;5;241m!=\u001b[39m \u001b[38;5;28mself\u001b[39m\u001b[38;5;241m.\u001b[39mn_features_in_:\n\u001b[0;32m--> 400\u001b[0m     \u001b[38;5;28;01mraise\u001b[39;00m \u001b[38;5;167;01mValueError\u001b[39;00m(\n\u001b[1;32m    401\u001b[0m         \u001b[38;5;124mf\u001b[39m\u001b[38;5;124m\"\u001b[39m\u001b[38;5;124mX has \u001b[39m\u001b[38;5;132;01m{\u001b[39;00mn_features\u001b[38;5;132;01m}\u001b[39;00m\u001b[38;5;124m features, but \u001b[39m\u001b[38;5;132;01m{\u001b[39;00m\u001b[38;5;28mself\u001b[39m\u001b[38;5;241m.\u001b[39m\u001b[38;5;18m__class__\u001b[39m\u001b[38;5;241m.\u001b[39m\u001b[38;5;18m__name__\u001b[39m\u001b[38;5;132;01m}\u001b[39;00m\u001b[38;5;124m \u001b[39m\u001b[38;5;124m\"\u001b[39m\n\u001b[1;32m    402\u001b[0m         \u001b[38;5;124mf\u001b[39m\u001b[38;5;124m\"\u001b[39m\u001b[38;5;124mis expecting \u001b[39m\u001b[38;5;132;01m{\u001b[39;00m\u001b[38;5;28mself\u001b[39m\u001b[38;5;241m.\u001b[39mn_features_in_\u001b[38;5;132;01m}\u001b[39;00m\u001b[38;5;124m features as input.\u001b[39m\u001b[38;5;124m\"\u001b[39m\n\u001b[1;32m    403\u001b[0m     )\n",
      "\u001b[0;31mValueError\u001b[0m: X has 18 features, but StandardScaler is expecting 19 features as input."
     ]
    }
   ],
   "source": [
    "%%time\n",
    "\n",
    "X_for_test = scaler.transform(test)\n",
    "y_pred_catboost = catBoostRegressor.predict(X_for_test)"
   ]
  },
  {
   "cell_type": "code",
   "execution_count": 38,
   "metadata": {},
   "outputs": [
    {
     "data": {
      "text/plain": [
       "array([1159066.61704289, 1490839.02083854, 1204418.99829528, ...,\n",
       "       3334811.56150614,  577431.5207536 , 4016423.63709346])"
      ]
     },
     "execution_count": 38,
     "metadata": {},
     "output_type": "execute_result"
    }
   ],
   "source": [
    "y_pred_catboost"
   ]
  },
  {
   "cell_type": "code",
   "execution_count": 39,
   "metadata": {},
   "outputs": [],
   "source": [
    "pd.Series(y_pred_catboost).to_csv('../prediction/1.csv',index=True,index_label=['Id','Predicted'])"
   ]
  }
 ],
 "metadata": {
  "kernelspec": {
   "display_name": "Python 3 (ipykernel)",
   "language": "python",
   "name": "python3"
  },
  "language_info": {
   "codemirror_mode": {
    "name": "ipython",
    "version": 3
   },
   "file_extension": ".py",
   "mimetype": "text/x-python",
   "name": "python",
   "nbconvert_exporter": "python",
   "pygments_lexer": "ipython3",
   "version": "3.10.8"
  }
 },
 "nbformat": 4,
 "nbformat_minor": 1
}
