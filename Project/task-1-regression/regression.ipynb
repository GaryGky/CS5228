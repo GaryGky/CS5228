{
 "cells": [
  {
   "cell_type": "markdown",
   "source": [
    "# Task1: Regression"
   ],
   "metadata": {
    "collapsed": false,
    "pycharm": {
     "name": "#%% md\n"
    }
   }
  },
  {
   "cell_type": "code",
   "execution_count": 1,
   "outputs": [],
   "source": [
    "import numpy as np # linear algebra\n",
    "import pandas as pd # data processing, CSV file I/O (e.g. pd.read_csv)\n",
    "from matplotlib import pyplot as plt\n",
    "from sklearn import preprocessing\n",
    "from sklearn.impute import SimpleImputer\n",
    "from sklearn.metrics import mean_squared_error, mean_absolute_error\n",
    "from sklearn.model_selection import train_test_split, GridSearchCV\n",
    "\n",
    "from sklearn.tree import DecisionTreeRegressor\n",
    "from sklearn.ensemble import RandomForestRegressor, GradientBoostingRegressor, AdaBoostRegressor\n",
    "\n",
    "import lightgbm as lgb\n",
    "from lightgbm.sklearn import LGBMRegressor\n",
    "\n",
    "from xgboost import XGBRegressor, plot_importance\n",
    "\n",
    "from sklearn.linear_model import Ridge, LassoCV, HuberRegressor\n",
    "from sklearn.svm import SVR\n",
    "from sklearn.neighbors import KNeighborsRegressor\n",
    "from mlxtend.regressor import StackingCVRegressor\n",
    "\n",
    "import seaborn as sns\n",
    "\n",
    "\n",
    "plt.style.use('fivethirtyeight')\n",
    "import warnings\n",
    "\n",
    "warnings.filterwarnings('ignore')\n",
    "%matplotlib inline"
   ],
   "metadata": {
    "collapsed": false,
    "pycharm": {
     "name": "#%%\n"
    }
   }
  },
  {
   "cell_type": "code",
   "execution_count": 2,
   "outputs": [
    {
     "data": {
      "text/plain": "Empty DataFrame\nColumns: [property_type, tenure, built_year, num_beds, num_baths, size_sqft, furnishing, available_unit_types, lat, lng, subzone, planning_area, price, shop_dist, mrt_dist, commercials_dist, second_school_dist, primary_school_dist, density]\nIndex: []",
      "text/html": "<div>\n<style scoped>\n    .dataframe tbody tr th:only-of-type {\n        vertical-align: middle;\n    }\n\n    .dataframe tbody tr th {\n        vertical-align: top;\n    }\n\n    .dataframe thead th {\n        text-align: right;\n    }\n</style>\n<table border=\"1\" class=\"dataframe\">\n  <thead>\n    <tr style=\"text-align: right;\">\n      <th></th>\n      <th>property_type</th>\n      <th>tenure</th>\n      <th>built_year</th>\n      <th>num_beds</th>\n      <th>num_baths</th>\n      <th>size_sqft</th>\n      <th>furnishing</th>\n      <th>available_unit_types</th>\n      <th>lat</th>\n      <th>lng</th>\n      <th>subzone</th>\n      <th>planning_area</th>\n      <th>price</th>\n      <th>shop_dist</th>\n      <th>mrt_dist</th>\n      <th>commercials_dist</th>\n      <th>second_school_dist</th>\n      <th>primary_school_dist</th>\n      <th>density</th>\n    </tr>\n  </thead>\n  <tbody>\n  </tbody>\n</table>\n</div>"
     },
     "execution_count": 2,
     "metadata": {},
     "output_type": "execute_result"
    }
   ],
   "source": [
    "train = pd.read_csv('../clean/train.csv')\n",
    "test = pd.read_csv('../clean/test.csv')\n",
    "train[train['density'].isna()]"
   ],
   "metadata": {
    "collapsed": false,
    "pycharm": {
     "name": "#%%\n"
    }
   }
  },
  {
   "cell_type": "code",
   "execution_count": 3,
   "outputs": [],
   "source": [
    "labelEnc = preprocessing.LabelEncoder()\n",
    "train.planning_area = labelEnc.fit_transform(train.planning_area)\n",
    "train.subzone = labelEnc.fit_transform(train.subzone)\n",
    "train.furnishing = labelEnc.fit_transform(train.furnishing)\n",
    "train.tenure = labelEnc.fit_transform(train.tenure)\n",
    "train.property_type = labelEnc.fit_transform(train.property_type)\n",
    "train.available_unit_types = labelEnc.fit_transform(train.available_unit_types)\n",
    "\n",
    "test.planning_area = labelEnc.fit_transform(test.planning_area)\n",
    "test.subzone = labelEnc.fit_transform(test.subzone)\n",
    "test.furnishing = labelEnc.fit_transform(test.furnishing)\n",
    "test.tenure = labelEnc.fit_transform(test.tenure)\n",
    "test.property_type = labelEnc.fit_transform(test.property_type)\n",
    "test.available_unit_types = labelEnc.fit_transform(test.available_unit_types)"
   ],
   "metadata": {
    "collapsed": false,
    "pycharm": {
     "name": "#%%\n"
    }
   }
  },
  {
   "cell_type": "code",
   "execution_count": 4,
   "outputs": [
    {
     "data": {
      "text/plain": "property_type           0\ntenure                  0\nbuilt_year              0\nnum_beds                0\nnum_baths               0\nsize_sqft               0\nfurnishing              0\navailable_unit_types    0\nlat                     0\nlng                     0\nsubzone                 0\nplanning_area           0\nshop_dist               0\nmrt_dist                0\ncommercials_dist        0\nsecond_school_dist      0\nprimary_school_dist     0\ndensity                 0\ndtype: int64"
     },
     "execution_count": 4,
     "metadata": {},
     "output_type": "execute_result"
    }
   ],
   "source": [
    "test.isnull().sum()"
   ],
   "metadata": {
    "collapsed": false,
    "pycharm": {
     "name": "#%%\n"
    }
   }
  },
  {
   "cell_type": "code",
   "execution_count": 5,
   "outputs": [],
   "source": [
    "df_X = train.drop(axis=1,columns=['price'])\n",
    "df_y = train[\"price\"]"
   ],
   "metadata": {
    "collapsed": false,
    "pycharm": {
     "name": "#%%\n"
    }
   }
  },
  {
   "cell_type": "code",
   "execution_count": 6,
   "outputs": [
    {
     "data": {
      "text/plain": "property_type           0\ntenure                  0\nbuilt_year              0\nnum_beds                0\nnum_baths               0\nsize_sqft               0\nfurnishing              0\navailable_unit_types    0\nlat                     0\nlng                     0\nsubzone                 0\nplanning_area           0\nshop_dist               0\nmrt_dist                0\ncommercials_dist        0\nsecond_school_dist      0\nprimary_school_dist     0\ndensity                 0\ndtype: int64"
     },
     "execution_count": 6,
     "metadata": {},
     "output_type": "execute_result"
    }
   ],
   "source": [
    "df_X.isnull().sum()"
   ],
   "metadata": {
    "collapsed": false,
    "pycharm": {
     "name": "#%%\n"
    }
   }
  },
  {
   "cell_type": "code",
   "execution_count": 7,
   "outputs": [
    {
     "name": "stdout",
     "output_type": "stream",
     "text": [
      "Number of features: 18\n",
      "Number of samples for training: 15961\n",
      "Number of samples for testing: 3991\n"
     ]
    }
   ],
   "source": [
    "# Convert dataframes to numpy arrays\n",
    "X, y = df_X.to_numpy(), df_y.to_numpy()\n",
    "y = y.ravel().astype(int)\n",
    "\n",
    "# Split dataset in training and test data (20% test data)\n",
    "X_train, X_test, y_train, y_test = train_test_split(X, y, test_size=0.2, random_state=0)\n",
    "y_train = y_train\n",
    "# Normalize data using the sciki-learn StandardScaler\n",
    "scaler = preprocessing.StandardScaler().fit(X_train)\n",
    "X_train, X_test = scaler.transform(X_train), scaler.transform(X_test)\n",
    "\n",
    "print('Number of features: {}'.format(X_train.shape[1]))\n",
    "print('Number of samples for training: {}'.format(X_train.shape[0]))\n",
    "print('Number of samples for testing: {}'.format(X_test.shape[0]))"
   ],
   "metadata": {
    "collapsed": false,
    "pycharm": {
     "name": "#%%\n"
    }
   }
  },
  {
   "cell_type": "code",
   "execution_count": 8,
   "outputs": [
    {
     "name": "stdout",
     "output_type": "stream",
     "text": [
      "CPU times: user 11.6 s, sys: 90.9 ms, total: 11.7 s\n",
      "Wall time: 11.7 s\n"
     ]
    }
   ],
   "source": [
    "%%time\n",
    "randomForestRegressor = RandomForestRegressor().fit(X_train, y_train)\n",
    "decisionTreeRegressor = DecisionTreeRegressor().fit(X_train, y_train)\n",
    "adaBoostRegressor = AdaBoostRegressor().fit(X_train, y_train)\n",
    "gdbtRegressor = GradientBoostingRegressor().fit(X_train, y_train)"
   ],
   "metadata": {
    "collapsed": false,
    "pycharm": {
     "name": "#%%\n"
    }
   }
  },
  {
   "cell_type": "code",
   "execution_count": 9,
   "outputs": [
    {
     "name": "stdout",
     "output_type": "stream",
     "text": [
      "Root Mean Squared Errors for all regressors\n",
      "============================\n",
      "DecisionTreeRegressor mae: 3.09e+05 rmse: 1.73e+06\n",
      "RandomForestRegressor mae: 2.9e+05 rmse: 1.61e+06\n",
      "GradientBoostingRegressor mae: 6.51e+05 rmse: 2.21e+06\n",
      "CPU times: user 98.7 ms, sys: 1.59 ms, total: 100 ms\n",
      "Wall time: 98.8 ms\n"
     ]
    }
   ],
   "source": [
    "\n",
    "%%time\n",
    "print('Root Mean Squared Errors for all regressors')\n",
    "print('============================')\n",
    "rlist = []\n",
    "\n",
    "for rgs in [decisionTreeRegressor, randomForestRegressor, gdbtRegressor]:\n",
    "    try:\n",
    "        # Predict for test samples\n",
    "        y_pred = rgs.predict(X_test)\n",
    "        # Calculate the root mean squared error and mean absolute error\n",
    "        rmse = np.sqrt(mean_squared_error(y_test, y_pred))\n",
    "        mae = mean_absolute_error(y_test, y_pred)\n",
    "        rlist.append(rmse)\n",
    "    except Exception as e:\n",
    "        print(e)\n",
    "        # Handle exception (e.g., a classifier is still None)\n",
    "        mae = '---'\n",
    "\n",
    "    print('{} mae: {:.3} rmse: {:.3}'.format(type(rgs).__name__, mae, rmse))\n"
   ],
   "metadata": {
    "collapsed": false,
    "pycharm": {
     "name": "#%%\n"
    }
   }
  },
  {
   "cell_type": "code",
   "execution_count": 10,
   "outputs": [
    {
     "data": {
      "text/plain": "[1726684.6580349423, 1610781.0323169262, 2212282.4571976056]"
     },
     "execution_count": 10,
     "metadata": {},
     "output_type": "execute_result"
    }
   ],
   "source": [
    "rlist"
   ],
   "metadata": {
    "collapsed": false,
    "pycharm": {
     "name": "#%%\n"
    }
   }
  },
  {
   "cell_type": "code",
   "execution_count": 11,
   "outputs": [
    {
     "name": "stdout",
     "output_type": "stream",
     "text": [
      "Root Mean Squared Error : 66758556.22664358\n",
      "CPU times: user 13.9 s, sys: 550 ms, total: 14.4 s\n",
      "Wall time: 1.44 s\n"
     ]
    }
   ],
   "source": [
    "%%time\n",
    "X, y = df_X.to_numpy(), df_y.to_numpy()\n",
    "y = y.ravel().astype(int)\n",
    "\n",
    "# LightGBM\n",
    "train_X, val_X, train_y, val_y = train_test_split(X, y, test_size=0.2)\n",
    "my_imputer = SimpleImputer()\n",
    "train_X = my_imputer.fit_transform(train_X)\n",
    "val_X = my_imputer.transform(val_X)\n",
    "\n",
    "lgbm = lgb.LGBMRegressor(objective='regression', learning_rate=0.05, n_estimators=1000)\n",
    "lgbm.fit(train_X, train_y, verbose=False)\n",
    "\n",
    "predictions = lgbm.predict(val_X)\n",
    "\n",
    "rmse = np.sqrt(mean_squared_error(predictions, val_y))\n",
    "print(\"Root Mean Squared Error : \" + str(rmse))\n",
    "#rlist.append(rmse)"
   ],
   "metadata": {
    "collapsed": false,
    "pycharm": {
     "name": "#%%\n"
    }
   }
  },
  {
   "cell_type": "code",
   "execution_count": 12,
   "outputs": [
    {
     "data": {
      "text/plain": "<Figure size 640x480 with 1 Axes>",
      "image/png": "[encoded data removed]"
     },
     "metadata": {},
     "output_type": "display_data"
    },
    {
     "name": "stdout",
     "output_type": "stream",
     "text": [
      "Root Mean Squared Error : 1716725.2015756674\n",
      "CPU times: user 1min 6s, sys: 1.58 s, total: 1min 8s\n",
      "Wall time: 6.1 s\n"
     ]
    }
   ],
   "source": [
    "%%time\n",
    "\n",
    "X, y = df_X.to_numpy(), df_y.to_numpy()\n",
    "y = y.ravel().astype(int)\n",
    "\n",
    "# XGBoost\n",
    "X1_train, X1_test, y1_train, y1_test = train_test_split(X, y, test_size=0.2, random_state=0)\n",
    "y1_train = y1_train\n",
    "\n",
    "xgb = XGBRegressor(learning_rate=0.05, n_estimators=1000,  objective='reg:gamma')\n",
    "xgb.fit(X1_train, y1_train)\n",
    "\n",
    "y1_pred = xgb.predict(X1_test)\n",
    "\n",
    "plot_importance(xgb)\n",
    "plt.show()\n",
    "\n",
    "rmse = np.sqrt(mean_squared_error(y1_pred, y1_test))\n",
    "print(\"Root Mean Squared Error : \" + str(rmse))\n",
    "#rlist.append(rmse)"
   ],
   "metadata": {
    "collapsed": false,
    "pycharm": {
     "name": "#%%\n"
    }
   }
  },
  {
   "cell_type": "code",
   "execution_count": 13,
   "outputs": [
    {
     "name": "stdout",
     "output_type": "stream",
     "text": [
      "StackingCVRegressor mae: 2.89e+05 rmse: 1.69e+06\n",
      "CPU times: user 7min 52s, sys: 6.72 s, total: 7min 58s\n",
      "Wall time: 1min 48s\n"
     ]
    }
   ],
   "source": [
    "%%time\n",
    "\n",
    "stackmodel = StackingCVRegressor(regressors=(decisionTreeRegressor, randomForestRegressor, gdbtRegressor, lgbm, xgb), meta_regressor=randomForestRegressor, use_features_in_secondary=True)\n",
    "rgs_stack = stackmodel.fit(X_train, y_train)\n",
    "y_pred = rgs_stack.predict(X_test)\n",
    "\n",
    "# Calculate the root mean squared error\n",
    "rmse = np.sqrt(mean_squared_error(y_test, y_pred))\n",
    "mae = mean_absolute_error(y_test, y_pred)\n",
    "print('{} mae: {:.3} rmse: {:.3}'.format(type(rgs_stack).__name__, mae, rmse))\n",
    "# rlist.append(rmse)"
   ],
   "metadata": {
    "collapsed": false,
    "pycharm": {
     "name": "#%%\n"
    }
   }
  },
  {
   "cell_type": "code",
   "execution_count": 15,
   "outputs": [
    {
     "ename": "TypeError",
     "evalue": "barplot() takes from 0 to 1 positional arguments but 2 were given",
     "output_type": "error",
     "traceback": [
      "\u001B[0;31m---------------------------------------------------------------------------\u001B[0m",
      "\u001B[0;31mTypeError\u001B[0m                                 Traceback (most recent call last)",
      "Input \u001B[0;32mIn [15]\u001B[0m, in \u001B[0;36m<cell line: 4>\u001B[0;34m()\u001B[0m\n\u001B[1;32m      2\u001B[0m x \u001B[38;5;241m=\u001B[39m [\u001B[38;5;124m\"\u001B[39m\u001B[38;5;124mDTree\u001B[39m\u001B[38;5;124m\"\u001B[39m, \u001B[38;5;124m\"\u001B[39m\u001B[38;5;124mRForest\u001B[39m\u001B[38;5;124m\"\u001B[39m, \u001B[38;5;124m\"\u001B[39m\u001B[38;5;124mGB\u001B[39m\u001B[38;5;124m\"\u001B[39m, \u001B[38;5;124m\"\u001B[39m\u001B[38;5;124mXGB\u001B[39m\u001B[38;5;124m\"\u001B[39m, \u001B[38;5;124m\"\u001B[39m\u001B[38;5;124mLGBM\u001B[39m\u001B[38;5;124m\"\u001B[39m, \u001B[38;5;124m\"\u001B[39m\u001B[38;5;124mStacking\u001B[39m\u001B[38;5;124m\"\u001B[39m]\n\u001B[1;32m      3\u001B[0m y \u001B[38;5;241m=\u001B[39m rlist\n\u001B[0;32m----> 4\u001B[0m \u001B[43msns\u001B[49m\u001B[38;5;241;43m.\u001B[39;49m\u001B[43mbarplot\u001B[49m\u001B[43m(\u001B[49m\u001B[43mx\u001B[49m\u001B[43m,\u001B[49m\u001B[43m \u001B[49m\u001B[43my\u001B[49m\u001B[43m)\u001B[49m\n\u001B[1;32m      5\u001B[0m plt\u001B[38;5;241m.\u001B[39mtitle(\u001B[38;5;124m\"\u001B[39m\u001B[38;5;124mDistribution plot of RMSE\u001B[39m\u001B[38;5;124m\"\u001B[39m)\n",
      "\u001B[0;31mTypeError\u001B[0m: barplot() takes from 0 to 1 positional arguments but 2 were given"
     ]
    },
    {
     "data": {
      "text/plain": "<Figure size 640x480 with 0 Axes>"
     },
     "metadata": {},
     "output_type": "display_data"
    }
   ],
   "source": [
    "plt.figure()\n",
    "x = [\"DTree\", \"RForest\", \"GB\", \"XGB\", \"LGBM\", \"Stacking\"]\n",
    "y = rlist\n",
    "sns.barplot(x, y)\n",
    "plt.title(\"Distribution plot of RMSE\")"
   ],
   "metadata": {
    "collapsed": false,
    "pycharm": {
     "name": "#%%\n"
    }
   }
  },
  {
   "cell_type": "code",
   "execution_count": 16,
   "outputs": [
    {
     "name": "stdout",
     "output_type": "stream",
     "text": [
      "Best RandomForestRegressor: {'bootstrap': True, 'max_depth': 3, 'max_features': 12, 'n_estimators': 40} (RMSE: 2801255.418)\n",
      "CPU times: user 6min 2s, sys: 2.42 s, total: 6min 5s\n",
      "Wall time: 10h 35min 31s\n"
     ]
    }
   ],
   "source": [
    "%%time\n",
    "\n",
    "model = None\n",
    "\n",
    "param_grid = {\n",
    "    'n_estimators': [20, 40, 100],\n",
    "    'max_depth': [3, 10, None],\n",
    "    'max_features': [12, 18, 27],\n",
    "    'bootstrap': [True]\n",
    "             }\n",
    "\n",
    "rgs = RandomForestRegressor()\n",
    "model = GridSearchCV(rgs, param_grid, cv=5,\n",
    "                          scoring='neg_mean_squared_error')\n",
    "model.fit(X_train, y_train)\n",
    "\n",
    "# Store the parameters of the best model\n",
    "best_params = model.best_params_\n",
    "\n",
    "# Predict with test data on the model with the best found parameters\n",
    "y_pred = model.predict(X_test)\n",
    "\n",
    "# Calculate the root mean squared error\n",
    "best_rmse = np.sqrt(mean_squared_error(y_test, y_pred))\n",
    "\n",
    "print('Best RandomForestRegressor: {} (RMSE: {:.3f})'.format(best_params, best_rmse))"
   ],
   "metadata": {
    "collapsed": false,
    "pycharm": {
     "name": "#%%\n"
    }
   }
  },
  {
   "cell_type": "code",
   "execution_count": 17,
   "outputs": [],
   "source": [
    "pd.Series(y_pred).to_csv('./prediction1.csv',index=True,index_label=['Id','Predicted'])"
   ],
   "metadata": {
    "collapsed": false,
    "pycharm": {
     "name": "#%%\n"
    }
   }
  },
  {
   "cell_type": "code",
   "execution_count": 18,
   "outputs": [
    {
     "name": "stdout",
     "output_type": "stream",
     "text": [
      "CPU times: user 8.08 s, sys: 2.18 s, total: 10.3 s\n",
      "Wall time: 3.5 s\n"
     ]
    }
   ],
   "source": [
    "%%time\n",
    "\n",
    "rgs = rgs_stack\n",
    "X_for_test = scaler.transform(test)\n",
    "y_pred_stack = rgs.predict(X_for_test)"
   ],
   "metadata": {
    "collapsed": false,
    "pycharm": {
     "name": "#%%\n"
    }
   }
  },
  {
   "cell_type": "code",
   "execution_count": 19,
   "outputs": [],
   "source": [
    "pd.Series(y_pred).to_csv('./prediction2.csv',index=True,index_label=['Id','Predicted'])"
   ],
   "metadata": {
    "collapsed": false,
    "pycharm": {
     "name": "#%%\n"
    }
   }
  },
  {
   "cell_type": "code",
   "execution_count": null,
   "outputs": [],
   "source": [
    "y_pred"
   ],
   "metadata": {
    "collapsed": false,
    "pycharm": {
     "name": "#%%\n"
    }
   }
  },
  {
   "cell_type": "code",
   "execution_count": null,
   "outputs": [],
   "source": [],
   "metadata": {
    "collapsed": false,
    "pycharm": {
     "name": "#%%\n"
    }
   }
  }
 ],
 "metadata": {
  "kernelspec": {
   "display_name": "Python 3",
   "language": "python",
   "name": "python3"
  },
  "language_info": {
   "codemirror_mode": {
    "name": "ipython",
    "version": 2
   },
   "file_extension": ".py",
   "mimetype": "text/x-python",
   "name": "python",
   "nbconvert_exporter": "python",
   "pygments_lexer": "ipython2",
   "version": "2.7.6"
  }
 },
 "nbformat": 4,
 "nbformat_minor": 0
}