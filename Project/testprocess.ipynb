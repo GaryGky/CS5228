{
 "cells": [
  {
   "cell_type": "code",
   "execution_count": 14,
   "metadata": {
    "collapsed": true,
    "pycharm": {
     "name": "#%%\n"
    }
   },
   "outputs": [],
   "source": [
    "import matplotlib.pyplot as plt\n",
    "import numpy as np\n",
    "import pandas as pd\n",
    "import seaborn as sns\n",
    "from sklearn import preprocessing\n",
    "from sklearn.metrics.pairwise import euclidean_distances\n",
    "\n",
    "plt.style.use('fivethirtyeight')\n",
    "import warnings\n",
    "\n",
    "warnings.filterwarnings('ignore')\n",
    "%matplotlib inline"
   ]
  },
  {
   "cell_type": "code",
   "execution_count": 15,
   "outputs": [
    {
     "data": {
      "text/plain": "   listing_id                                             title  \\\n0      777912               1 bed condo for sale in the gazania   \n1      936612           3 bed condo for sale in vue 8 residence   \n2      995264                      1 bed condo for sale in icon   \n3      477435  hdb flat for sale in 812b choa chu kang avenue 7   \n4      222529          hdb flat for sale in 204 toa payoh north   \n\n                                             address      property_name  \\\n0                                   17 how sun drive        the gazania   \n1                               95 pasir ris heights    vue 8 residence   \n2                                   10 gopeng street               icon   \n3  bukit batok / bukit panjang / choa chu kang (d23)  keat hong colours   \n4                        balestier / toa payoh (d12)   toa payoh spring   \n\n  property_type             tenure  built_year  num_beds  num_baths  \\\n0         condo           freehold      2022.0       1.0        1.0   \n1         Condo  99-year leasehold      2017.0       3.0        3.0   \n2         condo  99-year leasehold      2007.0       1.0        1.0   \n3           Hdb  99-year leasehold      2017.0       3.0        2.0   \n4   hdb 4 rooms  99-year leasehold      1973.0       3.0        2.0   \n\n   size_sqft floor_level   furnishing      available_unit_types  \\\n0        463         NaN  unfurnished  studio, 1, 2, 3, 4, 5 br   \n1       1033        high  unspecified  studio, 1, 2, 3, 4, 5 br   \n2        570         NaN        fully        studio, 1, 2, 3 br   \n3       1216         NaN  unspecified          1, 2, 3, 4, 5 br   \n4        936         NaN  unspecified             1, 2, 3, 4 br   \n\n   total_num_units                               property_details_url  \\\n0            250.0  https://www.99.co/singapore/condos-apartments/...   \n1            463.0  https://www.99.co/singapore/condos-apartments/...   \n2            646.0  https://www.99.co/singapore/condos-apartments/...   \n3            968.0  https://www.99.co/singapore/hdb/keat-hong-colo...   \n4              NaN  https://www.99.co/singapore/hdb/toa-payoh-spri...   \n\n        lat         lng  elevation           subzone  planning_area  \n0  1.344334  103.878690          0  upper paya lebar      serangoon  \n1  1.380281  103.943878          0    pasir ris west      pasir ris  \n2  1.294668  103.850074          0        bras basah         museum  \n3  1.373120  103.746094          0         keat hong  choa chu kang  \n4  1.341468  103.849047          0          braddell      toa payoh  ",
      "text/html": "<div>\n<style scoped>\n    .dataframe tbody tr th:only-of-type {\n        vertical-align: middle;\n    }\n\n    .dataframe tbody tr th {\n        vertical-align: top;\n    }\n\n    .dataframe thead th {\n        text-align: right;\n    }\n</style>\n<table border=\"1\" class=\"dataframe\">\n  <thead>\n    <tr style=\"text-align: right;\">\n      <th></th>\n      <th>listing_id</th>\n      <th>title</th>\n      <th>address</th>\n      <th>property_name</th>\n      <th>property_type</th>\n      <th>tenure</th>\n      <th>built_year</th>\n      <th>num_beds</th>\n      <th>num_baths</th>\n      <th>size_sqft</th>\n      <th>floor_level</th>\n      <th>furnishing</th>\n      <th>available_unit_types</th>\n      <th>total_num_units</th>\n      <th>property_details_url</th>\n      <th>lat</th>\n      <th>lng</th>\n      <th>elevation</th>\n      <th>subzone</th>\n      <th>planning_area</th>\n    </tr>\n  </thead>\n  <tbody>\n    <tr>\n      <th>0</th>\n      <td>777912</td>\n      <td>1 bed condo for sale in the gazania</td>\n      <td>17 how sun drive</td>\n      <td>the gazania</td>\n      <td>condo</td>\n      <td>freehold</td>\n      <td>2022.0</td>\n      <td>1.0</td>\n      <td>1.0</td>\n      <td>463</td>\n      <td>NaN</td>\n      <td>unfurnished</td>\n      <td>studio, 1, 2, 3, 4, 5 br</td>\n      <td>250.0</td>\n      <td>https://www.99.co/singapore/condos-apartments/...</td>\n      <td>1.344334</td>\n      <td>103.878690</td>\n      <td>0</td>\n      <td>upper paya lebar</td>\n      <td>serangoon</td>\n    </tr>\n    <tr>\n      <th>1</th>\n      <td>936612</td>\n      <td>3 bed condo for sale in vue 8 residence</td>\n      <td>95 pasir ris heights</td>\n      <td>vue 8 residence</td>\n      <td>Condo</td>\n      <td>99-year leasehold</td>\n      <td>2017.0</td>\n      <td>3.0</td>\n      <td>3.0</td>\n      <td>1033</td>\n      <td>high</td>\n      <td>unspecified</td>\n      <td>studio, 1, 2, 3, 4, 5 br</td>\n      <td>463.0</td>\n      <td>https://www.99.co/singapore/condos-apartments/...</td>\n      <td>1.380281</td>\n      <td>103.943878</td>\n      <td>0</td>\n      <td>pasir ris west</td>\n      <td>pasir ris</td>\n    </tr>\n    <tr>\n      <th>2</th>\n      <td>995264</td>\n      <td>1 bed condo for sale in icon</td>\n      <td>10 gopeng street</td>\n      <td>icon</td>\n      <td>condo</td>\n      <td>99-year leasehold</td>\n      <td>2007.0</td>\n      <td>1.0</td>\n      <td>1.0</td>\n      <td>570</td>\n      <td>NaN</td>\n      <td>fully</td>\n      <td>studio, 1, 2, 3 br</td>\n      <td>646.0</td>\n      <td>https://www.99.co/singapore/condos-apartments/...</td>\n      <td>1.294668</td>\n      <td>103.850074</td>\n      <td>0</td>\n      <td>bras basah</td>\n      <td>museum</td>\n    </tr>\n    <tr>\n      <th>3</th>\n      <td>477435</td>\n      <td>hdb flat for sale in 812b choa chu kang avenue 7</td>\n      <td>bukit batok / bukit panjang / choa chu kang (d23)</td>\n      <td>keat hong colours</td>\n      <td>Hdb</td>\n      <td>99-year leasehold</td>\n      <td>2017.0</td>\n      <td>3.0</td>\n      <td>2.0</td>\n      <td>1216</td>\n      <td>NaN</td>\n      <td>unspecified</td>\n      <td>1, 2, 3, 4, 5 br</td>\n      <td>968.0</td>\n      <td>https://www.99.co/singapore/hdb/keat-hong-colo...</td>\n      <td>1.373120</td>\n      <td>103.746094</td>\n      <td>0</td>\n      <td>keat hong</td>\n      <td>choa chu kang</td>\n    </tr>\n    <tr>\n      <th>4</th>\n      <td>222529</td>\n      <td>hdb flat for sale in 204 toa payoh north</td>\n      <td>balestier / toa payoh (d12)</td>\n      <td>toa payoh spring</td>\n      <td>hdb 4 rooms</td>\n      <td>99-year leasehold</td>\n      <td>1973.0</td>\n      <td>3.0</td>\n      <td>2.0</td>\n      <td>936</td>\n      <td>NaN</td>\n      <td>unspecified</td>\n      <td>1, 2, 3, 4 br</td>\n      <td>NaN</td>\n      <td>https://www.99.co/singapore/hdb/toa-payoh-spri...</td>\n      <td>1.341468</td>\n      <td>103.849047</td>\n      <td>0</td>\n      <td>braddell</td>\n      <td>toa payoh</td>\n    </tr>\n  </tbody>\n</table>\n</div>"
     },
     "execution_count": 15,
     "metadata": {},
     "output_type": "execute_result"
    }
   ],
   "source": [
    "data = pd.read_csv('./data/test.csv')\n",
    "data.head()"
   ],
   "metadata": {
    "collapsed": false,
    "pycharm": {
     "name": "#%%\n"
    }
   }
  },
  {
   "cell_type": "code",
   "execution_count": 16,
   "outputs": [
    {
     "name": "stdout",
     "output_type": "stream",
     "text": [
      "Before cleaning, there are 7000 records.\n"
     ]
    },
    {
     "data": {
      "text/plain": "listing_id                 0\ntitle                      0\naddress                    2\nproperty_name              0\nproperty_type              0\ntenure                   637\nbuilt_year               358\nnum_beds                  35\nnum_baths                152\nsize_sqft                  0\nfloor_level             5844\nfurnishing                 0\navailable_unit_types     520\ntotal_num_units         1900\nproperty_details_url       0\nlat                        0\nlng                        0\nelevation                  0\nsubzone                   33\nplanning_area             33\ndtype: int64"
     },
     "execution_count": 16,
     "metadata": {},
     "output_type": "execute_result"
    }
   ],
   "source": [
    "print('Before cleaning, there are {} records.'.format(data.shape[0]))\n",
    "data.isnull().sum()"
   ],
   "metadata": {
    "collapsed": false,
    "pycharm": {
     "name": "#%%\n"
    }
   }
  },
  {
   "cell_type": "code",
   "execution_count": 17,
   "outputs": [],
   "source": [
    "data = data.drop(['elevation', 'floor_level', 'listing_id', 'address', 'property_name', 'title', 'property_details_url',\n",
    "                  'total_num_units'], axis=1)\n",
    "# fill na by mean\n",
    "data[['built_year', 'num_beds', 'num_baths']] = data[['built_year', 'num_beds', 'num_baths']].fillna(\n",
    "    data[['built_year', 'num_beds', 'num_baths']].mean())\n",
    "\n",
    "# fill na by mode\n",
    "data['available_unit_types'] = data['available_unit_types'].fillna(data['available_unit_types'].mode()[0])\n",
    "data['tenure'] = data['tenure'].fillna(data['tenure'].mode()[0])"
   ],
   "metadata": {
    "collapsed": false,
    "pycharm": {
     "name": "#%%\n"
    }
   }
  },
  {
   "cell_type": "code",
   "execution_count": 18,
   "outputs": [],
   "source": [
    "top10Dist = euclidean_distances(data[['lat', 'lng']], data[['lat', 'lng']]).argsort(axis=1)[:, :50]\n",
    "for index, row in data[data['planning_area'].isnull()].iterrows():\n",
    "    data.at[index, 'planning_area'] = data.loc[top10Dist[index]][~data['planning_area'].isna()]['planning_area'].mode()[\n",
    "        0]\n",
    "    data.at[index, 'subzone'] = data.loc[top10Dist[index]][~data['subzone'].isna()]['subzone'].mode()[0]"
   ],
   "metadata": {
    "collapsed": false,
    "pycharm": {
     "name": "#%%\n"
    }
   }
  },
  {
   "cell_type": "code",
   "execution_count": 19,
   "outputs": [
    {
     "name": "stdout",
     "output_type": "stream",
     "text": [
      "After cleaning, there are now 7000 records.\n"
     ]
    },
    {
     "data": {
      "text/plain": "property_type           0\ntenure                  0\nbuilt_year              0\nnum_beds                0\nnum_baths               0\nsize_sqft               0\nfurnishing              0\navailable_unit_types    0\nlat                     0\nlng                     0\nsubzone                 0\nplanning_area           0\ndtype: int64"
     },
     "execution_count": 19,
     "metadata": {},
     "output_type": "execute_result"
    }
   ],
   "source": [
    "print('After cleaning, there are now {} records.'.format(data.shape[0]))\n",
    "data.isnull().sum()"
   ],
   "metadata": {
    "collapsed": false,
    "pycharm": {
     "name": "#%%\n"
    }
   }
  },
  {
   "cell_type": "code",
   "execution_count": 20,
   "outputs": [],
   "source": [
    "normalizer = preprocessing.MinMaxScaler()\n",
    "\n",
    "\n",
    "def normLatLng(X):\n",
    "    X.lat = normalizer.fit_transform(X.lat.values.reshape(-1, 1))\n",
    "    X.lng = normalizer.fit_transform(X.lng.values.reshape(-1, 1))"
   ],
   "metadata": {
    "collapsed": false,
    "pycharm": {
     "name": "#%%\n"
    }
   }
  },
  {
   "cell_type": "code",
   "execution_count": 21,
   "outputs": [],
   "source": [
    "\n",
    "commercials = pd.read_csv('./data/auxiliary-data/sg-commerical-centres.csv')\n",
    "mrts = pd.read_csv('./data/auxiliary-data/sg-mrt-stations.csv')\n",
    "primary_schools = pd.read_csv('./data/auxiliary-data/sg-primary-schools.csv')\n",
    "second_schools = pd.read_csv('./data/auxiliary-data/sg-secondary-schools.csv')\n",
    "shoppings = pd.read_csv('./data/auxiliary-data/sg-shopping-malls.csv')\n",
    "subzones = pd.read_csv('./data/auxiliary-data/sg-subzones.csv')\n",
    "\n",
    "normLatLng(commercials)\n",
    "normLatLng(mrts)\n",
    "normLatLng(primary_schools)\n",
    "normLatLng(second_schools)\n",
    "normLatLng(shoppings)"
   ],
   "metadata": {
    "collapsed": false,
    "pycharm": {
     "name": "#%%\n"
    }
   }
  },
  {
   "cell_type": "code",
   "execution_count": 22,
   "outputs": [],
   "source": [
    "data['shop_dist'] = euclidean_distances(data[['lat', 'lng']], shoppings[['lat', 'lng']]).min(axis=1)\n",
    "data['mrt_dist'] = euclidean_distances(data[['lat', 'lng']], mrts[['lat', 'lng']]).min(axis=1)\n",
    "data['commercials_dist'] = euclidean_distances(data[['lat', 'lng']], commercials[['lat', 'lng']]).min(axis=1)\n",
    "data['second_school_dist'] = euclidean_distances(data[['lat', 'lng']], second_schools[['lat', 'lng']]).min(axis=1)\n",
    "data['primary_school_dist'] = euclidean_distances(data[['lat', 'lng']], primary_schools[['lat', 'lng']]).min(axis=1)\n",
    "\n",
    "# subzone: compute population density within the subzone\n",
    "subzones = subzones[subzones.population > 0]\n",
    "subzones['density'] = subzones.population / subzones.area_size\n",
    "subzones.rename(columns={'name': 'subzone'}, inplace=True)\n",
    "data = data.merge(subzones[['subzone', 'density']], how='left', on='subzone')"
   ],
   "metadata": {
    "collapsed": false,
    "pycharm": {
     "name": "#%%\n"
    }
   }
  },
  {
   "cell_type": "code",
   "execution_count": 23,
   "outputs": [
    {
     "data": {
      "text/plain": "property_type           0\ntenure                  0\nbuilt_year              0\nnum_beds                0\nnum_baths               0\nsize_sqft               0\nfurnishing              0\navailable_unit_types    0\nlat                     0\nlng                     0\nsubzone                 0\nplanning_area           0\nshop_dist               0\nmrt_dist                0\ncommercials_dist        0\nsecond_school_dist      0\nprimary_school_dist     0\ndensity                 0\ndtype: int64"
     },
     "execution_count": 23,
     "metadata": {},
     "output_type": "execute_result"
    }
   ],
   "source": [
    "data.isnull().sum()"
   ],
   "metadata": {
    "collapsed": false,
    "pycharm": {
     "name": "#%%\n"
    }
   }
  },
  {
   "cell_type": "code",
   "execution_count": 24,
   "outputs": [],
   "source": [
    "# labelEnc = preprocessing.LabelEncoder()\n",
    "# data.planning_area = labelEnc.fit_transform(data.planning_area)\n",
    "# data.subzone = labelEnc.fit_transform(data.subzone)\n",
    "# data.furnishing = labelEnc.fit_transform(data.furnishing)\n",
    "# data.tenure = labelEnc.fit_transform(data.tenure)\n",
    "# data.property_type = labelEnc.fit_transform(data.property_type)\n",
    "# data.available_unit_types = labelEnc.fit_transform(data.available_unit_types)\n",
    "# data.size_sqft = normalizer.fit_transform(data.size_sqft.values.reshape(-1, 1))\n",
    "# data.lat = normalizer.fit_transform(data.lat.values.reshape(-1, 1))\n",
    "# data.lng = normalizer.fit_transform(data.lng.values.reshape(-1, 1))\n",
    "# data.density = normalizer.fit_transform(data.density.values.reshape(-1, 1))"
   ],
   "metadata": {
    "collapsed": false,
    "pycharm": {
     "name": "#%%\n"
    }
   }
  },
  {
   "cell_type": "code",
   "execution_count": 25,
   "outputs": [],
   "source": [
    "data.to_csv('./clean/test.csv', index=False)"
   ],
   "metadata": {
    "collapsed": false,
    "pycharm": {
     "name": "#%%\n"
    }
   }
  }
 ],
 "metadata": {
  "kernelspec": {
   "display_name": "Python 3",
   "language": "python",
   "name": "python3"
  },
  "language_info": {
   "codemirror_mode": {
    "name": "ipython",
    "version": 2
   },
   "file_extension": ".py",
   "mimetype": "text/x-python",
   "name": "python",
   "nbconvert_exporter": "python",
   "pygments_lexer": "ipython2",
   "version": "2.7.6"
  }
 },
 "nbformat": 4,
 "nbformat_minor": 0
}