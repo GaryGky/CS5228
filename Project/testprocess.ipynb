{
 "cells": [
  {
   "cell_type": "code",
   "execution_count": 19,
   "metadata": {
    "pycharm": {
     "name": "#%%\n"
    }
   },
   "outputs": [],
   "source": [
    "import matplotlib.pyplot as plt\n",
    "import numpy as np\n",
    "import pandas as pd\n",
    "import seaborn as sns\n",
    "from sklearn import preprocessing\n",
    "from sklearn.metrics.pairwise import euclidean_distances\n",
    "\n",
    "plt.style.use('fivethirtyeight')\n",
    "import warnings\n",
    "\n",
    "warnings.filterwarnings('ignore')\n",
    "%matplotlib inline"
   ]
  },
  {
   "cell_type": "code",
   "execution_count": 20,
   "metadata": {
    "pycharm": {
     "name": "#%%\n"
    }
   },
   "outputs": [
    {
     "data": {
      "text/html": [
       "<div>\n",
       "<style scoped>\n",
       "    .dataframe tbody tr th:only-of-type {\n",
       "        vertical-align: middle;\n",
       "    }\n",
       "\n",
       "    .dataframe tbody tr th {\n",
       "        vertical-align: top;\n",
       "    }\n",
       "\n",
       "    .dataframe thead th {\n",
       "        text-align: right;\n",
       "    }\n",
       "</style>\n",
       "<table border=\"1\" class=\"dataframe\">\n",
       "  <thead>\n",
       "    <tr style=\"text-align: right;\">\n",
       "      <th></th>\n",
       "      <th>listing_id</th>\n",
       "      <th>title</th>\n",
       "      <th>address</th>\n",
       "      <th>property_name</th>\n",
       "      <th>property_type</th>\n",
       "      <th>tenure</th>\n",
       "      <th>built_year</th>\n",
       "      <th>num_beds</th>\n",
       "      <th>num_baths</th>\n",
       "      <th>size_sqft</th>\n",
       "      <th>floor_level</th>\n",
       "      <th>furnishing</th>\n",
       "      <th>available_unit_types</th>\n",
       "      <th>total_num_units</th>\n",
       "      <th>property_details_url</th>\n",
       "      <th>lat</th>\n",
       "      <th>lng</th>\n",
       "      <th>elevation</th>\n",
       "      <th>subzone</th>\n",
       "      <th>planning_area</th>\n",
       "    </tr>\n",
       "  </thead>\n",
       "  <tbody>\n",
       "    <tr>\n",
       "      <th>0</th>\n",
       "      <td>777912</td>\n",
       "      <td>1 bed condo for sale in the gazania</td>\n",
       "      <td>17 how sun drive</td>\n",
       "      <td>the gazania</td>\n",
       "      <td>condo</td>\n",
       "      <td>freehold</td>\n",
       "      <td>2022.0</td>\n",
       "      <td>1.0</td>\n",
       "      <td>1.0</td>\n",
       "      <td>463</td>\n",
       "      <td>NaN</td>\n",
       "      <td>unfurnished</td>\n",
       "      <td>studio, 1, 2, 3, 4, 5 br</td>\n",
       "      <td>250.0</td>\n",
       "      <td>https://www.99.co/singapore/condos-apartments/...</td>\n",
       "      <td>1.344334</td>\n",
       "      <td>103.878690</td>\n",
       "      <td>0</td>\n",
       "      <td>upper paya lebar</td>\n",
       "      <td>serangoon</td>\n",
       "    </tr>\n",
       "    <tr>\n",
       "      <th>1</th>\n",
       "      <td>936612</td>\n",
       "      <td>3 bed condo for sale in vue 8 residence</td>\n",
       "      <td>95 pasir ris heights</td>\n",
       "      <td>vue 8 residence</td>\n",
       "      <td>Condo</td>\n",
       "      <td>99-year leasehold</td>\n",
       "      <td>2017.0</td>\n",
       "      <td>3.0</td>\n",
       "      <td>3.0</td>\n",
       "      <td>1033</td>\n",
       "      <td>high</td>\n",
       "      <td>unspecified</td>\n",
       "      <td>studio, 1, 2, 3, 4, 5 br</td>\n",
       "      <td>463.0</td>\n",
       "      <td>https://www.99.co/singapore/condos-apartments/...</td>\n",
       "      <td>1.380281</td>\n",
       "      <td>103.943878</td>\n",
       "      <td>0</td>\n",
       "      <td>pasir ris west</td>\n",
       "      <td>pasir ris</td>\n",
       "    </tr>\n",
       "    <tr>\n",
       "      <th>2</th>\n",
       "      <td>995264</td>\n",
       "      <td>1 bed condo for sale in icon</td>\n",
       "      <td>10 gopeng street</td>\n",
       "      <td>icon</td>\n",
       "      <td>condo</td>\n",
       "      <td>99-year leasehold</td>\n",
       "      <td>2007.0</td>\n",
       "      <td>1.0</td>\n",
       "      <td>1.0</td>\n",
       "      <td>570</td>\n",
       "      <td>NaN</td>\n",
       "      <td>fully</td>\n",
       "      <td>studio, 1, 2, 3 br</td>\n",
       "      <td>646.0</td>\n",
       "      <td>https://www.99.co/singapore/condos-apartments/...</td>\n",
       "      <td>1.294668</td>\n",
       "      <td>103.850074</td>\n",
       "      <td>0</td>\n",
       "      <td>bras basah</td>\n",
       "      <td>museum</td>\n",
       "    </tr>\n",
       "    <tr>\n",
       "      <th>3</th>\n",
       "      <td>477435</td>\n",
       "      <td>hdb flat for sale in 812b choa chu kang avenue 7</td>\n",
       "      <td>bukit batok / bukit panjang / choa chu kang (d23)</td>\n",
       "      <td>keat hong colours</td>\n",
       "      <td>Hdb</td>\n",
       "      <td>99-year leasehold</td>\n",
       "      <td>2017.0</td>\n",
       "      <td>3.0</td>\n",
       "      <td>2.0</td>\n",
       "      <td>1216</td>\n",
       "      <td>NaN</td>\n",
       "      <td>unspecified</td>\n",
       "      <td>1, 2, 3, 4, 5 br</td>\n",
       "      <td>968.0</td>\n",
       "      <td>https://www.99.co/singapore/hdb/keat-hong-colo...</td>\n",
       "      <td>1.373120</td>\n",
       "      <td>103.746094</td>\n",
       "      <td>0</td>\n",
       "      <td>keat hong</td>\n",
       "      <td>choa chu kang</td>\n",
       "    </tr>\n",
       "    <tr>\n",
       "      <th>4</th>\n",
       "      <td>222529</td>\n",
       "      <td>hdb flat for sale in 204 toa payoh north</td>\n",
       "      <td>balestier / toa payoh (d12)</td>\n",
       "      <td>toa payoh spring</td>\n",
       "      <td>hdb 4 rooms</td>\n",
       "      <td>99-year leasehold</td>\n",
       "      <td>1973.0</td>\n",
       "      <td>3.0</td>\n",
       "      <td>2.0</td>\n",
       "      <td>936</td>\n",
       "      <td>NaN</td>\n",
       "      <td>unspecified</td>\n",
       "      <td>1, 2, 3, 4 br</td>\n",
       "      <td>NaN</td>\n",
       "      <td>https://www.99.co/singapore/hdb/toa-payoh-spri...</td>\n",
       "      <td>1.341468</td>\n",
       "      <td>103.849047</td>\n",
       "      <td>0</td>\n",
       "      <td>braddell</td>\n",
       "      <td>toa payoh</td>\n",
       "    </tr>\n",
       "  </tbody>\n",
       "</table>\n",
       "</div>"
      ],
      "text/plain": [
       "   listing_id                                             title  \\\n",
       "0      777912               1 bed condo for sale in the gazania   \n",
       "1      936612           3 bed condo for sale in vue 8 residence   \n",
       "2      995264                      1 bed condo for sale in icon   \n",
       "3      477435  hdb flat for sale in 812b choa chu kang avenue 7   \n",
       "4      222529          hdb flat for sale in 204 toa payoh north   \n",
       "\n",
       "                                             address      property_name  \\\n",
       "0                                   17 how sun drive        the gazania   \n",
       "1                               95 pasir ris heights    vue 8 residence   \n",
       "2                                   10 gopeng street               icon   \n",
       "3  bukit batok / bukit panjang / choa chu kang (d23)  keat hong colours   \n",
       "4                        balestier / toa payoh (d12)   toa payoh spring   \n",
       "\n",
       "  property_type             tenure  built_year  num_beds  num_baths  \\\n",
       "0         condo           freehold      2022.0       1.0        1.0   \n",
       "1         Condo  99-year leasehold      2017.0       3.0        3.0   \n",
       "2         condo  99-year leasehold      2007.0       1.0        1.0   \n",
       "3           Hdb  99-year leasehold      2017.0       3.0        2.0   \n",
       "4   hdb 4 rooms  99-year leasehold      1973.0       3.0        2.0   \n",
       "\n",
       "   size_sqft floor_level   furnishing      available_unit_types  \\\n",
       "0        463         NaN  unfurnished  studio, 1, 2, 3, 4, 5 br   \n",
       "1       1033        high  unspecified  studio, 1, 2, 3, 4, 5 br   \n",
       "2        570         NaN        fully        studio, 1, 2, 3 br   \n",
       "3       1216         NaN  unspecified          1, 2, 3, 4, 5 br   \n",
       "4        936         NaN  unspecified             1, 2, 3, 4 br   \n",
       "\n",
       "   total_num_units                               property_details_url  \\\n",
       "0            250.0  https://www.99.co/singapore/condos-apartments/...   \n",
       "1            463.0  https://www.99.co/singapore/condos-apartments/...   \n",
       "2            646.0  https://www.99.co/singapore/condos-apartments/...   \n",
       "3            968.0  https://www.99.co/singapore/hdb/keat-hong-colo...   \n",
       "4              NaN  https://www.99.co/singapore/hdb/toa-payoh-spri...   \n",
       "\n",
       "        lat         lng  elevation           subzone  planning_area  \n",
       "0  1.344334  103.878690          0  upper paya lebar      serangoon  \n",
       "1  1.380281  103.943878          0    pasir ris west      pasir ris  \n",
       "2  1.294668  103.850074          0        bras basah         museum  \n",
       "3  1.373120  103.746094          0         keat hong  choa chu kang  \n",
       "4  1.341468  103.849047          0          braddell      toa payoh  "
      ]
     },
     "execution_count": 20,
     "metadata": {},
     "output_type": "execute_result"
    }
   ],
   "source": [
    "data = pd.read_csv('./data/test.csv')\n",
    "data.head()"
   ]
  },
  {
   "cell_type": "code",
   "execution_count": 21,
   "metadata": {
    "pycharm": {
     "name": "#%%\n"
    }
   },
   "outputs": [
    {
     "name": "stdout",
     "output_type": "stream",
     "text": [
      "Before cleaning, there are 6966 records.\n"
     ]
    },
    {
     "data": {
      "text/plain": [
       "listing_id                 0\n",
       "title                      0\n",
       "address                    2\n",
       "property_name              0\n",
       "property_type              0\n",
       "tenure                   637\n",
       "built_year               358\n",
       "num_beds                  35\n",
       "num_baths                149\n",
       "size_sqft                  0\n",
       "floor_level             5810\n",
       "furnishing                 0\n",
       "available_unit_types     520\n",
       "total_num_units         1900\n",
       "property_details_url       0\n",
       "lat                        0\n",
       "lng                        0\n",
       "elevation                  0\n",
       "subzone                   33\n",
       "planning_area             33\n",
       "dtype: int64"
      ]
     },
     "execution_count": 21,
     "metadata": {},
     "output_type": "execute_result"
    }
   ],
   "source": [
    "print('Before cleaning, there are {} records.'.format(data.shape[0]))\n",
    "data.isnull().sum()"
   ]
  },
  {
   "cell_type": "code",
   "execution_count": 22,
   "metadata": {
    "pycharm": {
     "name": "#%%\n"
    }
   },
   "outputs": [],
   "source": [
    "data = data.drop(['elevation', 'floor_level', 'listing_id', 'address', 'property_name', 'title', 'property_details_url',\n",
    "                  'total_num_units'], axis=1)\n",
    "# fill na by mean\n",
    "data[['built_year', 'num_beds', 'num_baths']] = data[['built_year', 'num_beds', 'num_baths']].fillna(\n",
    "    data[['built_year', 'num_beds', 'num_baths']].mean())\n",
    "\n",
    "# fill na by mode\n",
    "data['available_unit_types'] = data['available_unit_types'].fillna(data['available_unit_types'].mode()[0])\n",
    "data['tenure'] = data['tenure'].fillna(data['tenure'].mode()[0])"
   ]
  },
  {
   "cell_type": "code",
   "execution_count": 23,
   "metadata": {
    "pycharm": {
     "name": "#%%\n"
    }
   },
   "outputs": [],
   "source": [
    "top10Dist = euclidean_distances(data[['lat', 'lng']], data[['lat', 'lng']]).argsort(axis=1)[:, :50]\n",
    "for index, row in data[data['planning_area'].isnull()].iterrows():\n",
    "    data.at[index, 'planning_area'] = data.loc[top10Dist[index]][~data['planning_area'].isna()]['planning_area'].mode()[\n",
    "        0]\n",
    "    data.at[index, 'subzone'] = data.loc[top10Dist[index]][~data['subzone'].isna()]['subzone'].mode()[0]"
   ]
  },
  {
   "cell_type": "code",
   "execution_count": 24,
   "metadata": {
    "pycharm": {
     "name": "#%%\n"
    }
   },
   "outputs": [
    {
     "name": "stdout",
     "output_type": "stream",
     "text": [
      "After cleaning, there are now 6966 records.\n"
     ]
    },
    {
     "data": {
      "text/plain": [
       "property_type           0\n",
       "tenure                  0\n",
       "built_year              0\n",
       "num_beds                0\n",
       "num_baths               0\n",
       "size_sqft               0\n",
       "furnishing              0\n",
       "available_unit_types    0\n",
       "lat                     0\n",
       "lng                     0\n",
       "subzone                 0\n",
       "planning_area           0\n",
       "dtype: int64"
      ]
     },
     "execution_count": 24,
     "metadata": {},
     "output_type": "execute_result"
    }
   ],
   "source": [
    "print('After cleaning, there are now {} records.'.format(data.shape[0]))\n",
    "data.isnull().sum()"
   ]
  },
  {
   "cell_type": "code",
   "execution_count": 25,
   "metadata": {
    "pycharm": {
     "name": "#%%\n"
    }
   },
   "outputs": [],
   "source": [
    "normalizer = preprocessing.MinMaxScaler()\n",
    "\n",
    "\n",
    "def normLatLng(X):\n",
    "    X.lat = normalizer.fit_transform(X.lat.values.reshape(-1, 1))\n",
    "    X.lng = normalizer.fit_transform(X.lng.values.reshape(-1, 1))"
   ]
  },
  {
   "cell_type": "code",
   "execution_count": 26,
   "metadata": {
    "pycharm": {
     "name": "#%%\n"
    }
   },
   "outputs": [],
   "source": [
    "\n",
    "commercials = pd.read_csv('./data/auxiliary-data/sg-commerical-centres.csv')\n",
    "mrts = pd.read_csv('./data/auxiliary-data/sg-mrt-stations.csv')\n",
    "primary_schools = pd.read_csv('./data/auxiliary-data/sg-primary-schools.csv')\n",
    "second_schools = pd.read_csv('./data/auxiliary-data/sg-secondary-schools.csv')\n",
    "shoppings = pd.read_csv('./data/auxiliary-data/sg-shopping-malls.csv')\n",
    "subzones = pd.read_csv('./data/auxiliary-data/sg-subzones.csv')\n",
    "\n",
    "normLatLng(commercials)\n",
    "normLatLng(mrts)\n",
    "normLatLng(primary_schools)\n",
    "normLatLng(second_schools)\n",
    "normLatLng(shoppings)"
   ]
  },
  {
   "cell_type": "code",
   "execution_count": 27,
   "metadata": {
    "pycharm": {
     "name": "#%%\n"
    }
   },
   "outputs": [],
   "source": [
    "data['shop_dist'] = euclidean_distances(data[['lat', 'lng']], shoppings[['lat', 'lng']]).min(axis=1)\n",
    "data['mrt_dist'] = euclidean_distances(data[['lat', 'lng']], mrts[['lat', 'lng']]).min(axis=1)\n",
    "data['commercials_dist'] = euclidean_distances(data[['lat', 'lng']], commercials[['lat', 'lng']]).min(axis=1)\n",
    "data['second_school_dist'] = euclidean_distances(data[['lat', 'lng']], second_schools[['lat', 'lng']]).min(axis=1)\n",
    "data['primary_school_dist'] = euclidean_distances(data[['lat', 'lng']], primary_schools[['lat', 'lng']]).min(axis=1)\n",
    "\n",
    "# subzone: compute population density within the subzone\n",
    "subzones = subzones[subzones.population > 0]\n",
    "subzones['density'] = subzones.population / subzones.area_size\n",
    "subzones.rename(columns={'name': 'subzone'}, inplace=True)\n",
    "data = data.merge(subzones[['subzone', 'density']], how='left', on='subzone')"
   ]
  },
  {
   "cell_type": "code",
   "execution_count": 33,
   "metadata": {},
   "outputs": [],
   "source": [
    "data[\"property_type\"] = data[\"property_type\"].str.lower()"
   ]
  },
  {
   "cell_type": "code",
   "execution_count": 32,
   "metadata": {
    "pycharm": {
     "name": "#%%\n"
    }
   },
   "outputs": [
    {
     "data": {
      "text/plain": [
       "property_type           0\n",
       "tenure                  0\n",
       "built_year              0\n",
       "num_beds                0\n",
       "num_baths               0\n",
       "size_sqft               0\n",
       "furnishing              0\n",
       "available_unit_types    0\n",
       "lat                     0\n",
       "lng                     0\n",
       "subzone                 0\n",
       "planning_area           0\n",
       "shop_dist               0\n",
       "mrt_dist                0\n",
       "commercials_dist        0\n",
       "second_school_dist      0\n",
       "primary_school_dist     0\n",
       "density                 0\n",
       "dtype: int64"
      ]
     },
     "execution_count": 32,
     "metadata": {},
     "output_type": "execute_result"
    }
   ],
   "source": [
    "data.isnull().sum()"
   ]
  },
  {
   "cell_type": "code",
   "execution_count": 23,
   "metadata": {
    "pycharm": {
     "name": "#%%\n"
    }
   },
   "outputs": [],
   "source": [
    "# labelEnc = preprocessing.LabelEncoder()\n",
    "# data.planning_area = labelEnc.fit_transform(data.planning_area)\n",
    "# data.subzone = labelEnc.fit_transform(data.subzone)\n",
    "# data.furnishing = labelEnc.fit_transform(data.furnishing)\n",
    "# data.tenure = labelEnc.fit_transform(data.tenure)\n",
    "# data.property_type = labelEnc.fit_transform(data.property_type)\n",
    "# data.available_unit_types = labelEnc.fit_transform(data.available_unit_types)\n",
    "# data.size_sqft = normalizer.fit_transform(data.size_sqft.values.reshape(-1, 1))\n",
    "# data.lat = normalizer.fit_transform(data.lat.values.reshape(-1, 1))\n",
    "# data.lng = normalizer.fit_transform(data.lng.values.reshape(-1, 1))\n",
    "# data.density = normalizer.fit_transform(data.density.values.reshape(-1, 1))"
   ]
  },
  {
   "cell_type": "code",
   "execution_count": 31,
   "metadata": {
    "pycharm": {
     "name": "#%%\n"
    }
   },
   "outputs": [],
   "source": [
    "data.to_csv('./clean/test.csv', index=False)"
   ]
  }
 ],
 "metadata": {
  "kernelspec": {
   "display_name": "Python 3 (ipykernel)",
   "language": "python",
   "name": "python3"
  },
  "language_info": {
   "codemirror_mode": {
    "name": "ipython",
    "version": 3
   },
   "file_extension": ".py",
   "mimetype": "text/x-python",
   "name": "python",
   "nbconvert_exporter": "python",
   "pygments_lexer": "ipython3",
   "version": "3.10.7"
  }
 },
 "nbformat": 4,
 "nbformat_minor": 1
}
